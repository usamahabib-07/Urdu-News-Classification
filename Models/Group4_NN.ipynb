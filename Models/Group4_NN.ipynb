{
 "cells": [
  {
   "cell_type": "markdown",
   "id": "7435c0e1-bbcb-4124-9da7-0a38050ee7fb",
   "metadata": {},
   "source": [
    "# Neural Network implementation"
   ]
  },
  {
   "cell_type": "markdown",
   "id": "e1956033-ef07-4317-8dbb-50189fbfde4f",
   "metadata": {},
   "source": [
    "### Library imports"
   ]
  },
  {
   "cell_type": "code",
   "execution_count": 2,
   "id": "dbb5c443-2484-42a3-b430-8c2f8cd951f3",
   "metadata": {},
   "outputs": [],
   "source": [
    "# General Libraries\n",
    "import pandas as pd\n",
    "import numpy as np\n",
    "import re\n",
    "import string\n",
    "from collections import defaultdict\n",
    "import matplotlib.pyplot as plt\n",
    "import seaborn as sns\n",
    "\n",
    "# PyTorch Libraries\n",
    "import torch\n",
    "import torch.nn as nn\n",
    "import torch.optim as optim\n",
    "from torch.utils.data import Dataset, DataLoader\n",
    "\n",
    "# Miscellaneous\n",
    "import joblib\n",
    "import copy\n",
    "import os\n",
    "\n",
    "# Set random seeds for reproducibility\n",
    "torch.manual_seed(42)\n",
    "np.random.seed(42)"
   ]
  },
  {
   "cell_type": "markdown",
   "id": "4fd1e9c0-795a-4671-b057-04632c96b6fe",
   "metadata": {},
   "source": [
    "### Load and explore dataset"
   ]
  },
  {
   "cell_type": "code",
   "execution_count": 3,
   "id": "226f6f05-e0c6-4a19-9b5b-9fb64b180269",
   "metadata": {},
   "outputs": [
    {
     "name": "stdout",
     "output_type": "stream",
     "text": [
      "First few rows of the dataset:\n",
      "     id                                              title  \\\n",
      "0   526   یوٹیلیٹی اسٹورز پر چینی کی قیمت میں کمی کردی گئی   \n",
      "1  1462            ایڈیلیڈ میچ کے ہیرو حارث رؤف کی سالگرہ   \n",
      "2  1515  ’’پیگماٹائٹ‘‘ یہ نایاب پتھروں اور غیرمعمولی عن...   \n",
      "3  1656  جوبائیڈن کا ڈونلڈ ٹرمپ کو فون، جیت پر مبارک با...   \n",
      "4  1840             پاکستان میں آج سونے کی قیمت کیا رہی ؟   \n",
      "\n",
      "                                 link  \\\n",
      "0  https://urdu.geo.tv/latest/385946-   \n",
      "1    https://jang.com.pk/news/1409128   \n",
      "2    https://jang.com.pk/news/1309594   \n",
      "3    https://jang.com.pk/news/1408469   \n",
      "4    https://urdu.samaa.tv/2087324435   \n",
      "\n",
      "                                             content          gold_label  \\\n",
      "0  اسلام آباد: یوٹیلیٹی اسٹورز کارپوریشن نے چینی...            business   \n",
      "1  قومی کرکٹ ٹیم کے فاسٹ بولر اور آسٹریلیا کے خل...              sports   \n",
      "2  نایاب پتھروں یا انمول نگینوں کی تلاش اور پھر ح...  science-technology   \n",
      "3  امریکی صدر جوبائیڈن نے ری پبلکن پارٹی کے امیدو...       international   \n",
      "4  عالمی منڈی اور پاکستان بھر میں آج سونے کی قیم...            business   \n",
      "\n",
      "                                   processed_content  \n",
      "0  ['اسلام', 'آباد', 'یوٹیلیٹی', 'اسٹورز', 'کارپو...  \n",
      "1  ['قومی', 'کرکٹ', 'ٹیم', 'کے', 'فاسٹ', 'بولر', ...  \n",
      "2  ['نایاب', 'پتھروں', 'یا', 'انمول', 'نگینوں', '...  \n",
      "3  ['امریکی', 'صدر', 'جوبائیڈن', 'نے', 'ری', 'پبل...  \n",
      "4  ['عالمی', 'منڈی', 'اور', 'پاکستان', 'بھر', 'می...  \n",
      "\n",
      "Data types of each column:\n",
      "id                    int64\n",
      "title                object\n",
      "link                 object\n",
      "content              object\n",
      "gold_label           object\n",
      "processed_content    object\n",
      "dtype: object\n",
      "\n",
      "Missing values in each column:\n",
      "id                   0\n",
      "title                0\n",
      "link                 0\n",
      "content              0\n",
      "gold_label           0\n",
      "processed_content    0\n",
      "dtype: int64\n",
      "\n",
      "Number of duplicated rows: 0\n",
      "Dataset shape after removing duplicates: (2281, 6)\n"
     ]
    }
   ],
   "source": [
    "# Define the path to your dataset\n",
    "data_path = 'normalized_and_tokenized_combined_data.xlsx'\n",
    "\n",
    "# Load the dataset\n",
    "df = pd.read_excel(data_path)\n",
    "\n",
    "print(\"First few rows of the dataset:\")\n",
    "print(df.head())\n",
    "\n",
    "print(\"\\nData types of each column:\")\n",
    "print(df.dtypes)\n",
    "\n",
    "print(\"\\nMissing values in each column:\")\n",
    "print(df.isnull().sum())\n",
    "\n",
    "print(\"\\nNumber of duplicated rows:\", df.duplicated().sum())\n",
    "\n",
    "df = df.drop_duplicates()\n",
    "print(\"Dataset shape after removing duplicates:\", df.shape)"
   ]
  },
  {
   "cell_type": "markdown",
   "id": "25decb01-cd5f-48b8-b8bc-648a6059c5fd",
   "metadata": {},
   "source": [
    "### Data preprocessing:"
   ]
  },
  {
   "cell_type": "markdown",
   "id": "2feb332d-5c3b-49a2-a63d-2e295d848794",
   "metadata": {},
   "source": [
    "#### (i) Normalizing:"
   ]
  },
  {
   "cell_type": "code",
   "execution_count": 4,
   "id": "69d61a10-b1ed-4be5-9103-756aec21b258",
   "metadata": {},
   "outputs": [],
   "source": [
    "def normalize_text(text):\n",
    "    \"\"\"\n",
    "    Normalize Urdu text by:\n",
    "    - Converting to lowercase\n",
    "    - Removing punctuation\n",
    "    - Removing numbers\n",
    "    - Removing extra whitespace\n",
    "    \"\"\"\n",
    "    # Convert to string (in case of any non-string entries)\n",
    "    text = str(text)\n",
    "    \n",
    "    # Convert to lowercase\n",
    "    text = text.lower()\n",
    "    \n",
    "    # Remove punctuation\n",
    "    text = text.translate(str.maketrans('', '', string.punctuation))\n",
    "    \n",
    "    # Remove numbers\n",
    "    text = re.sub(r'\\d+', '', text)\n",
    "    \n",
    "    # Remove extra whitespace\n",
    "    text = re.sub(r'\\s+', ' ', text).strip()\n",
    "    \n",
    "    return text"
   ]
  },
  {
   "cell_type": "markdown",
   "id": "4d71b214-cbf1-4c32-a4b6-186169150c67",
   "metadata": {},
   "source": [
    "#### (ii) Tokenizing:"
   ]
  },
  {
   "cell_type": "code",
   "execution_count": 7,
   "id": "935065eb-39a4-4a79-b207-8fac3916bbec",
   "metadata": {},
   "outputs": [],
   "source": [
    "def tokenize_text(text):\n",
    "    \"\"\"\n",
    "    Tokenize the normalized text into words.\n",
    "    \"\"\"\n",
    "    # Split text by whitespace\n",
    "    tokens = text.split()\n",
    "    \n",
    "    # Remove stopwords (common words that are not useful for classification)\n",
    "    # this is a smaller set of stopwords, we have uploaded another larger list on the GitHub\n",
    "    # which is more comprehensive\n",
    "    stopwords_urdu = set([\n",
    "        'اور', 'میں', 'کو', 'کا', 'کی', 'کیوں', 'ہو', 'ہیں', 'ہوں', 'یہ', 'وہ',\n",
    "        'وہاں', 'تھا', 'تھی', 'تھے', 'کر', 'کرنے',\n",
    "        'کیا', 'ہوتا', 'ہوتی', 'ہوتے', 'گا', 'گی', 'گے', 'جائے', 'جانا'\n",
    "    ])\n",
    "    \n",
    "    tokens = [token for token in tokens if token not in stopwords_urdu]\n",
    "    \n",
    "    return tokens"
   ]
  },
  {
   "cell_type": "markdown",
   "id": "d73e2451-9b42-4daa-833c-0632289c08b9",
   "metadata": {},
   "source": [
    "#### Apply normalization and tokenization:"
   ]
  },
  {
   "cell_type": "code",
   "execution_count": 8,
   "id": "57bdaca1-934e-46e6-abd5-0c525753ef28",
   "metadata": {},
   "outputs": [
    {
     "name": "stdout",
     "output_type": "stream",
     "text": [
      "\n",
      "Sample of processed content:\n",
      "                                             content  \\\n",
      "0  اسلام آباد: یوٹیلیٹی اسٹورز کارپوریشن نے چینی...   \n",
      "1  قومی کرکٹ ٹیم کے فاسٹ بولر اور آسٹریلیا کے خل...   \n",
      "2  نایاب پتھروں یا انمول نگینوں کی تلاش اور پھر ح...   \n",
      "3  امریکی صدر جوبائیڈن نے ری پبلکن پارٹی کے امیدو...   \n",
      "4  عالمی منڈی اور پاکستان بھر میں آج سونے کی قیم...   \n",
      "\n",
      "                                   processed_content  \n",
      "0  [اسلام, آباد, یوٹیلیٹی, اسٹورز, کارپوریشن, نے...  \n",
      "1  [قومی, کرکٹ, ٹیم, کے, فاسٹ, بولر, آسٹریلیا, ک...  \n",
      "2  [نایاب, پتھروں, یا, انمول, نگینوں, تلاش, پھر, ...  \n",
      "3  [امریکی, صدر, جوبائیڈن, نے, ری, پبلکن, پارٹی, ...  \n",
      "4  [عالمی, منڈی, پاکستان, بھر, آج, سونے, قیمت, ب...  \n"
     ]
    }
   ],
   "source": [
    "# Apply normalization\n",
    "df['normalized_content'] = df['content'].apply(normalize_text)\n",
    "\n",
    "# Apply tokenization\n",
    "df['processed_content'] = df['normalized_content'].apply(tokenize_text)\n",
    "\n",
    "# Verify the preprocessing\n",
    "print(\"\\nSample of processed content:\")\n",
    "print(df[['content', 'processed_content']].head())"
   ]
  },
  {
   "cell_type": "markdown",
   "id": "602aad1b-3562-4fee-8420-b034ea17ce95",
   "metadata": {},
   "source": [
    "### Vectorizer:"
   ]
  },
  {
   "cell_type": "code",
   "execution_count": 11,
   "id": "0cc35c12-a18a-4de5-bc95-2d3eb22c83c9",
   "metadata": {},
   "outputs": [],
   "source": [
    "class CustomTFIDF:\n",
    "    def __init__(self, min_df=2, max_df=0.95, ngram_range=(1,1)):\n",
    "        \"\"\"\n",
    "        Initialize the CustomTFIDF vectorizer.\n",
    "        \n",
    "        Args:\n",
    "            min_df (int): Minimum document frequency.\n",
    "            max_df (float): Maximum document frequency (as a fraction).\n",
    "            ngram_range (tuple): The lower and upper boundary of the range of n-values for different n-grams to be extracted.\n",
    "        \"\"\"\n",
    "        self.min_df = min_df\n",
    "        self.max_df = max_df\n",
    "        self.ngram_range = ngram_range\n",
    "        self.vocabulary_ = {}\n",
    "        self.idf_ = {}\n",
    "    \n",
    "    def _generate_ngrams(self, tokens):\n",
    "        \"\"\"\n",
    "        Generate n-grams from tokens based on the specified ngram_range.\n",
    "        \"\"\"\n",
    "        lower, upper = self.ngram_range\n",
    "        ngrams = []\n",
    "        for n in range(lower, upper + 1):\n",
    "            ngrams += [' '.join(tokens[i:i+n]) for i in range(len(tokens)-n+1)]\n",
    "        return ngrams\n",
    "    \n",
    "    def fit(self, documents):\n",
    "        \"\"\"\n",
    "        Learn vocabulary and idf from the training documents.\n",
    "        \"\"\"\n",
    "        df_counts = defaultdict(int)  # Document frequency for each term\n",
    "        total_docs = len(documents)\n",
    "        \n",
    "        for doc in documents:\n",
    "            terms = set(self._generate_ngrams(doc))\n",
    "            for term in terms:\n",
    "                df_counts[term] += 1\n",
    "        \n",
    "        # Apply min_df and max_df\n",
    "        filtered_terms = [term for term, count in df_counts.items()\n",
    "                         if count >= self.min_df and (count / total_docs) <= self.max_df]\n",
    "        \n",
    "        # Assign indices to terms\n",
    "        self.vocabulary_ = {term: idx for idx, term in enumerate(filtered_terms)}\n",
    "        \n",
    "        # Calculate idf for each term\n",
    "        self.idf_ = {term: np.log((1 + total_docs) / (1 + df_counts[term])) + 1 for term in self.vocabulary_}\n",
    "        \n",
    "    def transform(self, documents):\n",
    "        \"\"\"\n",
    "        Transform documents to TF-IDF matrix.\n",
    "        \"\"\"\n",
    "        rows = len(documents)\n",
    "        cols = len(self.vocabulary_)\n",
    "        tfidf_matrix = np.zeros((rows, cols))\n",
    "        \n",
    "        for i, doc in enumerate(documents):\n",
    "            terms = self._generate_ngrams(doc)\n",
    "            term_counts = defaultdict(int)\n",
    "            for term in terms:\n",
    "                if term in self.vocabulary_:\n",
    "                    term_counts[term] += 1\n",
    "            total_terms = len(terms)\n",
    "            for term, count in term_counts.items():\n",
    "                tf = count / total_terms\n",
    "                idf = self.idf_[term]\n",
    "                tfidf_matrix[i, self.vocabulary_[term]] = tf * idf\n",
    "        \n",
    "        return tfidf_matrix\n",
    "    \n",
    "    def fit_transform(self, documents):\n",
    "        \"\"\"\n",
    "        Fit to data, then transform it.\n",
    "        \"\"\"\n",
    "        self.fit(documents)\n",
    "        return self.transform(documents)"
   ]
  },
  {
   "cell_type": "markdown",
   "id": "4eefbb8a-6f1f-42bc-be8d-0426c164258f",
   "metadata": {},
   "source": [
    "### Perform train-test split (without `sklearn`)"
   ]
  },
  {
   "cell_type": "code",
   "execution_count": 12,
   "id": "318305af-0a03-4469-99bd-419c164655e0",
   "metadata": {},
   "outputs": [
    {
     "name": "stdout",
     "output_type": "stream",
     "text": [
      "Training set shape: (1825, 7)\n",
      "Testing set shape: (456, 7)\n"
     ]
    }
   ],
   "source": [
    "def manual_train_test_split(df, test_size=0.2, random_state=42):\n",
    "    \"\"\"\n",
    "    Split the DataFrame into training and testing sets manually.\n",
    "    \n",
    "    Args:\n",
    "        df (pd.DataFrame): The complete DataFrame.\n",
    "        test_size (float): Proportion of the dataset to include in the test split.\n",
    "        random_state (int): Seed for reproducibility.\n",
    "    \n",
    "    Returns:\n",
    "        pd.DataFrame, pd.DataFrame: Training and testing DataFrames.\n",
    "    \"\"\"\n",
    "    np.random.seed(random_state)\n",
    "    shuffled_indices = np.random.permutation(len(df))\n",
    "    test_count = int(len(df) * test_size)\n",
    "    test_indices = shuffled_indices[:test_count]\n",
    "    train_indices = shuffled_indices[test_count:]\n",
    "    \n",
    "    train_df = df.iloc[train_indices].reset_index(drop=True)\n",
    "    test_df = df.iloc[test_indices].reset_index(drop=True)\n",
    "    \n",
    "    return train_df, test_df\n",
    "\n",
    "# Perform the split\n",
    "train_df, test_df = manual_train_test_split(df, test_size=0.2, random_state=42)\n",
    "\n",
    "print(\"Training set shape:\", train_df.shape)\n",
    "print(\"Testing set shape:\", test_df.shape)"
   ]
  },
  {
   "cell_type": "markdown",
   "id": "5f79fe31-deb6-4278-9086-064be93c51d6",
   "metadata": {},
   "source": [
    "#### Initialize and fit the vectorizer:"
   ]
  },
  {
   "cell_type": "code",
   "execution_count": 13,
   "id": "a5044631-3f77-4a98-a69a-53153f0aa72b",
   "metadata": {},
   "outputs": [
    {
     "name": "stdout",
     "output_type": "stream",
     "text": [
      "Custom TF-IDF matrix shape:\n",
      "X_train: (1825, 56800)\n",
      "X_test: (456, 56800)\n"
     ]
    }
   ],
   "source": [
    "# Initialize the CustomTFIDF vectorizer\n",
    "custom_tfidf = CustomTFIDF(min_df=2, max_df=0.95, ngram_range=(1,2))  # Unigram and bigram\n",
    "\n",
    "# Fit and transform the training data\n",
    "X_train = custom_tfidf.fit_transform(train_df['processed_content'])\n",
    "\n",
    "# Transform the testing data\n",
    "X_test = custom_tfidf.transform(test_df['processed_content'])\n",
    "\n",
    "print(\"Custom TF-IDF matrix shape:\")\n",
    "print(\"X_train:\", X_train.shape)\n",
    "print(\"X_test:\", X_test.shape)"
   ]
  },
  {
   "cell_type": "markdown",
   "id": "1e9380db-20ec-4b0f-bd93-5f89b28f5e17",
   "metadata": {},
   "source": [
    "### Encode labels:"
   ]
  },
  {
   "cell_type": "code",
   "execution_count": 14,
   "id": "8ef3ef21-1d93-4e31-9203-d1244da94cdf",
   "metadata": {},
   "outputs": [
    {
     "name": "stdout",
     "output_type": "stream",
     "text": [
      "\n",
      "Label Encoding Mapping:\n",
      "{'business': 0, 'entertainment': 1, 'international': 2, 'science-technology': 3, 'sports': 4}\n"
     ]
    }
   ],
   "source": [
    "def encode_labels(labels):\n",
    "    \"\"\"\n",
    "    Encode string labels to integers.\n",
    "    \n",
    "    Args:\n",
    "        labels (pd.Series): Series of string labels.\n",
    "    \n",
    "    Returns:\n",
    "        np.array, dict: Encoded labels and a mapping dictionary.\n",
    "    \"\"\"\n",
    "    unique_labels = sorted(labels.unique())\n",
    "    label_to_int = {label: idx for idx, label in enumerate(unique_labels)}\n",
    "    int_to_label = {idx: label for label, idx in label_to_int.items()}\n",
    "    encoded_labels = labels.map(label_to_int).values\n",
    "    return encoded_labels, label_to_int, int_to_label\n",
    "\n",
    "# Encode labels for training and testing sets\n",
    "y_train, label_to_int, int_to_label = encode_labels(train_df['gold_label'])\n",
    "y_test = test_df['gold_label'].map(label_to_int).values\n",
    "\n",
    "print(\"\\nLabel Encoding Mapping:\")\n",
    "print(label_to_int)"
   ]
  },
  {
   "cell_type": "markdown",
   "id": "ba530b8c-145b-4232-bcb6-a130b1a198a3",
   "metadata": {},
   "source": [
    "### Compute class weights:"
   ]
  },
  {
   "cell_type": "code",
   "execution_count": 15,
   "id": "ade9814d-ac7c-4a6a-83b7-98db4260dc03",
   "metadata": {},
   "outputs": [
    {
     "name": "stdout",
     "output_type": "stream",
     "text": [
      "\n",
      "Class Weights: [1.01364413 0.9889211  1.0052669  1.01646765 0.97570023]\n"
     ]
    }
   ],
   "source": [
    "def compute_class_weights(y, num_classes):\n",
    "    \"\"\"\n",
    "    Compute class weights inversely proportional to class frequencies.\n",
    "    \n",
    "    Args:\n",
    "        y (np.array): Array of encoded labels.\n",
    "        num_classes (int): Number of unique classes.\n",
    "    \n",
    "    Returns:\n",
    "        np.array: Array of class weights.\n",
    "    \"\"\"\n",
    "    class_counts = np.bincount(y, minlength=num_classes)\n",
    "    class_weights = 1.0 / (class_counts + 1e-6)  # Adding a small value to avoid division by zero\n",
    "    normalized_weights = class_weights / class_weights.sum() * num_classes  # Normalize weights\n",
    "    return normalized_weights\n",
    "\n",
    "num_classes = len(label_to_int)\n",
    "class_weights = compute_class_weights(y_train, num_classes)\n",
    "print(\"\\nClass Weights:\", class_weights)"
   ]
  },
  {
   "cell_type": "markdown",
   "id": "ffea945b-6967-408d-a1e7-b55fd36edb00",
   "metadata": {},
   "source": [
    "#### Define a custom Pytorch dataset:"
   ]
  },
  {
   "cell_type": "code",
   "execution_count": 16,
   "id": "21d7241f-d9e4-415a-839b-fed7d45d7345",
   "metadata": {},
   "outputs": [],
   "source": [
    "class NewsDataset(Dataset):\n",
    "    def __init__(self, features, labels):\n",
    "        \"\"\"\n",
    "        Args:\n",
    "            features (np.array): TF-IDF feature matrix.\n",
    "            labels (np.array): Corresponding labels.\n",
    "        \"\"\"\n",
    "        self.X = torch.tensor(features, dtype=torch.float32)\n",
    "        self.y = torch.tensor(labels, dtype=torch.long)\n",
    "    \n",
    "    def __len__(self):\n",
    "        return self.X.shape[0]\n",
    "    \n",
    "    def __getitem__(self, idx):\n",
    "        return self.X[idx], self.y[idx]"
   ]
  },
  {
   "cell_type": "markdown",
   "id": "ce1a1085-cbea-42be-908d-9f8fe185d18a",
   "metadata": {},
   "source": [
    "#### Create a Dataloader:"
   ]
  },
  {
   "cell_type": "code",
   "execution_count": 17,
   "id": "c98f1216-23d5-439b-8316-1362252459e1",
   "metadata": {},
   "outputs": [
    {
     "name": "stdout",
     "output_type": "stream",
     "text": [
      "\n",
      "Number of training batches: 58\n",
      "Number of testing batches: 15\n"
     ]
    }
   ],
   "source": [
    "# Create Dataset instances\n",
    "train_dataset = NewsDataset(X_train, y_train)\n",
    "test_dataset = NewsDataset(X_test, y_test)\n",
    "\n",
    "# Define DataLoader parameters\n",
    "batch_size = 32\n",
    "\n",
    "# Create DataLoader instances\n",
    "train_loader = DataLoader(train_dataset, batch_size=batch_size, shuffle=True)\n",
    "test_loader = DataLoader(test_dataset, batch_size=batch_size, shuffle=False)\n",
    "\n",
    "print(f\"\\nNumber of training batches: {len(train_loader)}\")\n",
    "print(f\"Number of testing batches: {len(test_loader)}\")"
   ]
  },
  {
   "cell_type": "markdown",
   "id": "4a8fcaa9-d3ef-4387-9558-66b0a9d0f44c",
   "metadata": {},
   "source": [
    "## Neural Network's architecture:\n",
    "We've defined a simple feedforward neural network with two hidden layers, ReLU activations, and dropout for regularization."
   ]
  },
  {
   "cell_type": "code",
   "execution_count": 18,
   "id": "d357a162-069b-4115-b484-92376d9d993a",
   "metadata": {},
   "outputs": [],
   "source": [
    "class NewsClassifier(nn.Module):\n",
    "    def __init__(self, input_size, hidden_size1, hidden_size2, num_classes, dropout=0.5):\n",
    "        super(NewsClassifier, self).__init__()\n",
    "        self.fc1 = nn.Linear(input_size, hidden_size1)\n",
    "        self.relu1 = nn.ReLU()\n",
    "        self.dropout1 = nn.Dropout(dropout)\n",
    "        self.fc2 = nn.Linear(hidden_size1, hidden_size2)\n",
    "        self.relu2 = nn.ReLU()\n",
    "        self.dropout2 = nn.Dropout(dropout)\n",
    "        self.fc3 = nn.Linear(hidden_size2, num_classes)\n",
    "    \n",
    "    def forward(self, x):\n",
    "        out = self.fc1(x)\n",
    "        out = self.relu1(out)\n",
    "        out = self.dropout1(out)\n",
    "        out = self.fc2(out)\n",
    "        out = self.relu2(out)\n",
    "        out = self.dropout2(out)\n",
    "        out = self.fc3(out)\n",
    "        return out"
   ]
  },
  {
   "cell_type": "markdown",
   "id": "bca54f25-b59c-43f6-a292-e65a77831798",
   "metadata": {},
   "source": [
    "#### Initialize the model:"
   ]
  },
  {
   "cell_type": "code",
   "execution_count": 20,
   "id": "c17fa65e-b08d-41b0-8f38-8a932a5dfaec",
   "metadata": {},
   "outputs": [
    {
     "name": "stdout",
     "output_type": "stream",
     "text": [
      "\n",
      "Neural Network Architecture:\n",
      "NewsClassifier(\n",
      "  (fc1): Linear(in_features=56800, out_features=128, bias=True)\n",
      "  (relu1): ReLU()\n",
      "  (dropout1): Dropout(p=0.5, inplace=False)\n",
      "  (fc2): Linear(in_features=128, out_features=64, bias=True)\n",
      "  (relu2): ReLU()\n",
      "  (dropout2): Dropout(p=0.5, inplace=False)\n",
      "  (fc3): Linear(in_features=64, out_features=5, bias=True)\n",
      ")\n"
     ]
    }
   ],
   "source": [
    "# Initialize the model\n",
    "input_size = X_train.shape[1]  # Number of TF-IDF features\n",
    "hidden_size1 = 128\n",
    "hidden_size2 = 64\n",
    "num_classes = num_classes\n",
    "dropout = 0.5\n",
    "\n",
    "model = NewsClassifier(input_size, hidden_size1, hidden_size2, num_classes, dropout)\n",
    "print(\"\\nNeural Network Architecture:\")\n",
    "print(model)"
   ]
  },
  {
   "cell_type": "markdown",
   "id": "6c8df44e-a32d-4b6a-9e67-a049ad023477",
   "metadata": {},
   "source": [
    "### Train the model:"
   ]
  },
  {
   "cell_type": "markdown",
   "id": "0b1951e4-eece-4d1b-8f3b-704479e018f1",
   "metadata": {},
   "source": [
    "#### Check if GPU available:"
   ]
  },
  {
   "cell_type": "code",
   "execution_count": 21,
   "id": "e838f04f-c3fa-44a9-a97c-865c2465388d",
   "metadata": {},
   "outputs": [
    {
     "name": "stdout",
     "output_type": "stream",
     "text": [
      "\n",
      "Using device: cpu\n"
     ]
    },
    {
     "data": {
      "text/plain": [
       "NewsClassifier(\n",
       "  (fc1): Linear(in_features=56800, out_features=128, bias=True)\n",
       "  (relu1): ReLU()\n",
       "  (dropout1): Dropout(p=0.5, inplace=False)\n",
       "  (fc2): Linear(in_features=128, out_features=64, bias=True)\n",
       "  (relu2): ReLU()\n",
       "  (dropout2): Dropout(p=0.5, inplace=False)\n",
       "  (fc3): Linear(in_features=64, out_features=5, bias=True)\n",
       ")"
      ]
     },
     "execution_count": 21,
     "metadata": {},
     "output_type": "execute_result"
    }
   ],
   "source": [
    "device = torch.device('cuda' if torch.cuda.is_available() else 'cpu')\n",
    "print(f\"\\nUsing device: {device}\")\n",
    "\n",
    "# Move model to device\n",
    "model.to(device)"
   ]
  },
  {
   "cell_type": "markdown",
   "id": "48bfae0b-b3f9-4cf5-807c-ee946e94e76f",
   "metadata": {},
   "source": [
    "#### Define loss function and optimizer:"
   ]
  },
  {
   "cell_type": "code",
   "execution_count": 22,
   "id": "98390c4c-e439-4856-8091-e83cbef4b8f4",
   "metadata": {},
   "outputs": [],
   "source": [
    "# Convert class weights to a tensor and move to device\n",
    "class_weights_tensor = torch.tensor(class_weights, dtype=torch.float32).to(device)\n",
    "\n",
    "# Define Loss Function and Optimizer\n",
    "criterion = nn.CrossEntropyLoss(weight=class_weights_tensor)\n",
    "optimizer = optim.Adam(model.parameters(), lr=0.001)"
   ]
  },
  {
   "cell_type": "markdown",
   "id": "5b91fd3c-b5d1-4190-868a-372f4567326e",
   "metadata": {},
   "source": [
    "#### Training loop (with early stopping):"
   ]
  },
  {
   "cell_type": "code",
   "execution_count": 23,
   "id": "c484ab74-d102-4be6-b8ca-5537b49b1924",
   "metadata": {},
   "outputs": [
    {
     "name": "stdout",
     "output_type": "stream",
     "text": [
      "Epoch [1/20] Train Loss: 1.5870, Train Acc: 0.3468 Val Loss: 1.5232, Val Acc: 0.8268\n",
      "Epoch [2/20] Train Loss: 1.2901, Train Acc: 0.7808 Val Loss: 0.9627, Val Acc: 0.9145\n",
      "Epoch [3/20] Train Loss: 0.6212, Train Acc: 0.9079 Val Loss: 0.3904, Val Acc: 0.9430\n",
      "Epoch [4/20] Train Loss: 0.2369, Train Acc: 0.9611 Val Loss: 0.2394, Val Acc: 0.9364\n",
      "EarlyStopping counter: 1 out of 5\n",
      "Epoch [5/20] Train Loss: 0.1175, Train Acc: 0.9836 Val Loss: 0.2034, Val Acc: 0.9408\n",
      "EarlyStopping counter: 2 out of 5\n",
      "Epoch [6/20] Train Loss: 0.0763, Train Acc: 0.9907 Val Loss: 0.1910, Val Acc: 0.9430\n",
      "EarlyStopping counter: 3 out of 5\n",
      "Epoch [7/20] Train Loss: 0.0481, Train Acc: 0.9923 Val Loss: 0.1891, Val Acc: 0.9474\n",
      "Epoch [8/20] Train Loss: 0.0332, Train Acc: 0.9962 Val Loss: 0.1906, Val Acc: 0.9474\n",
      "EarlyStopping counter: 1 out of 5\n",
      "Epoch [9/20] Train Loss: 0.0296, Train Acc: 0.9967 Val Loss: 0.1927, Val Acc: 0.9496\n",
      "Epoch [10/20] Train Loss: 0.0233, Train Acc: 0.9978 Val Loss: 0.1937, Val Acc: 0.9474\n",
      "EarlyStopping counter: 1 out of 5\n",
      "Epoch [11/20] Train Loss: 0.0149, Train Acc: 1.0000 Val Loss: 0.1968, Val Acc: 0.9474\n",
      "EarlyStopping counter: 2 out of 5\n",
      "Epoch [12/20] Train Loss: 0.0145, Train Acc: 0.9995 Val Loss: 0.2027, Val Acc: 0.9452\n",
      "EarlyStopping counter: 3 out of 5\n",
      "Epoch [13/20] Train Loss: 0.0132, Train Acc: 0.9984 Val Loss: 0.2047, Val Acc: 0.9452\n",
      "EarlyStopping counter: 4 out of 5\n",
      "Epoch [14/20] Train Loss: 0.0100, Train Acc: 0.9978 Val Loss: 0.2079, Val Acc: 0.9452\n",
      "EarlyStopping counter: 5 out of 5\n",
      "Early stopping!\n"
     ]
    },
    {
     "data": {
      "text/plain": [
       "<All keys matched successfully>"
      ]
     },
     "execution_count": 23,
     "metadata": {},
     "output_type": "execute_result"
    }
   ],
   "source": [
    "# Training Parameters\n",
    "num_epochs = 20\n",
    "\n",
    "# To store training and validation metrics\n",
    "train_losses = []\n",
    "train_accuracies = []\n",
    "val_losses = []\n",
    "val_accuracies = []\n",
    "\n",
    "# Early Stopping Parameters\n",
    "best_val_acc = 0.0\n",
    "best_model_wts = copy.deepcopy(model.state_dict())\n",
    "patience = 5\n",
    "trigger_times = 0\n",
    "\n",
    "for epoch in range(num_epochs):\n",
    "    model.train()\n",
    "    running_loss = 0.0\n",
    "    correct_predictions = 0\n",
    "    total_predictions = 0\n",
    "    \n",
    "    for inputs, labels in train_loader:\n",
    "        inputs = inputs.to(device)\n",
    "        labels = labels.to(device)\n",
    "        \n",
    "        # Zero the parameter gradients\n",
    "        optimizer.zero_grad()\n",
    "        \n",
    "        # Forward pass\n",
    "        outputs = model(inputs)\n",
    "        loss = criterion(outputs, labels)\n",
    "        \n",
    "        # Backward pass and optimization\n",
    "        loss.backward()\n",
    "        optimizer.step()\n",
    "        \n",
    "        # Statistics\n",
    "        running_loss += loss.item() * inputs.size(0)\n",
    "        _, predicted = torch.max(outputs, 1)\n",
    "        correct_predictions += (predicted == labels).sum().item()\n",
    "        total_predictions += labels.size(0)\n",
    "    \n",
    "    epoch_loss = running_loss / total_predictions\n",
    "    epoch_acc = correct_predictions / total_predictions\n",
    "    train_losses.append(epoch_loss)\n",
    "    train_accuracies.append(epoch_acc)\n",
    "    \n",
    "    # Validation\n",
    "    model.eval()\n",
    "    val_running_loss = 0.0\n",
    "    val_correct_predictions = 0\n",
    "    val_total_predictions = 0\n",
    "    \n",
    "    with torch.no_grad():\n",
    "        for inputs, labels in test_loader:\n",
    "            inputs = inputs.to(device)\n",
    "            labels = labels.to(device)\n",
    "            \n",
    "            outputs = model(inputs)\n",
    "            loss = criterion(outputs, labels)\n",
    "            \n",
    "            val_running_loss += loss.item() * inputs.size(0)\n",
    "            _, predicted = torch.max(outputs, 1)\n",
    "            val_correct_predictions += (predicted == labels).sum().item()\n",
    "            val_total_predictions += labels.size(0)\n",
    "    \n",
    "    val_epoch_loss = val_running_loss / val_total_predictions\n",
    "    val_epoch_acc = val_correct_predictions / val_total_predictions\n",
    "    val_losses.append(val_epoch_loss)\n",
    "    val_accuracies.append(val_epoch_acc)\n",
    "    \n",
    "    print(f\"Epoch [{epoch+1}/{num_epochs}] \"\n",
    "          f\"Train Loss: {epoch_loss:.4f}, Train Acc: {epoch_acc:.4f} \"\n",
    "          f\"Val Loss: {val_epoch_loss:.4f}, Val Acc: {val_epoch_acc:.4f}\")\n",
    "    \n",
    "    # Early Stopping\n",
    "    if val_epoch_acc > best_val_acc:\n",
    "        best_val_acc = val_epoch_acc\n",
    "        best_model_wts = copy.deepcopy(model.state_dict())\n",
    "        trigger_times = 0\n",
    "    else:\n",
    "        trigger_times += 1\n",
    "        print(f'EarlyStopping counter: {trigger_times} out of {patience}')\n",
    "        if trigger_times >= patience:\n",
    "            print('Early stopping!')\n",
    "            break\n",
    "\n",
    "# Load best model weights\n",
    "model.load_state_dict(best_model_wts)"
   ]
  },
  {
   "cell_type": "markdown",
   "id": "5a4a97f9-ec64-4d61-bb00-ab708631767c",
   "metadata": {},
   "source": [
    "## Evaluation:"
   ]
  },
  {
   "cell_type": "markdown",
   "id": "77e7f9c1-9ac4-4bd0-b2fe-f7ea760b4359",
   "metadata": {},
   "source": [
    "#### Compute accuracy:"
   ]
  },
  {
   "cell_type": "code",
   "execution_count": 24,
   "id": "726fd227-3123-4867-8efe-c53928861263",
   "metadata": {},
   "outputs": [],
   "source": [
    "def compute_accuracy(y_true, y_pred):\n",
    "    \"\"\"\n",
    "    Computes the accuracy of predictions.\n",
    "    \n",
    "    Args:\n",
    "        y_true (list): True labels.\n",
    "        y_pred (list): Predicted labels.\n",
    "        \n",
    "    Returns:\n",
    "        float: Accuracy score.\n",
    "    \"\"\"\n",
    "    correct = sum(1 for true, pred in zip(y_true, y_pred) if true == pred)\n",
    "    total = len(y_true)\n",
    "    accuracy = correct / total if total > 0 else 0\n",
    "    return accuracy"
   ]
  },
  {
   "cell_type": "markdown",
   "id": "2252eba3-498b-436e-af2b-05612d3f4e44",
   "metadata": {},
   "source": [
    "### Confusion Matrix:"
   ]
  },
  {
   "cell_type": "code",
   "execution_count": 25,
   "id": "3e9bce64-c03b-4725-b3a2-5d56157e46fe",
   "metadata": {},
   "outputs": [],
   "source": [
    "def compute_confusion_matrix(y_true, y_pred, labels):\n",
    "    \"\"\"\n",
    "    Computes the confusion matrix.\n",
    "    \n",
    "    Args:\n",
    "        y_true (list): True labels.\n",
    "        y_pred (list): Predicted labels.\n",
    "        labels (list): List of unique labels.\n",
    "        \n",
    "    Returns:\n",
    "        dict: Nested dictionary representing the confusion matrix.\n",
    "              Outer keys are true labels, inner keys are predicted labels.\n",
    "    \"\"\"\n",
    "    cm = {true_label: {pred_label: 0 for pred_label in labels} for true_label in labels}\n",
    "    \n",
    "    for true, pred in zip(y_true, y_pred):\n",
    "        if true in cm and pred in cm[true]:\n",
    "            cm[true][pred] += 1\n",
    "        else:\n",
    "            # Handle unexpected labels\n",
    "            pass\n",
    "    \n",
    "    return cm"
   ]
  },
  {
   "cell_type": "markdown",
   "id": "623c12ef-0ff2-4730-b1c3-ec86a8c6dfa4",
   "metadata": {},
   "source": [
    "### Precision, Recall and F1-score:"
   ]
  },
  {
   "cell_type": "code",
   "execution_count": 38,
   "id": "ee23eec4-606f-458b-bb03-d6981c60ad61",
   "metadata": {},
   "outputs": [],
   "source": [
    "def compute_classification_metrics(cm, labels):\n",
    "    \"\"\"\n",
    "    Computes precision, recall, and F1-score for each class.\n",
    "    \n",
    "    Args:\n",
    "        cm (dict): Confusion matrix.\n",
    "        labels (list): List of unique labels.\n",
    "        \n",
    "    Returns:\n",
    "        dict: Nested dictionary with metrics for each label.\n",
    "    \"\"\"\n",
    "    metrics = {}\n",
    "    \n",
    "    for label in labels:\n",
    "        TP = cm[label][label]\n",
    "        FP = sum(cm[other][label] for other in labels if other != label)\n",
    "        FN = sum(cm[label][other] for other in labels if other != label)\n",
    "        TN = sum(cm[other_true][other_pred] for other_true in labels for other_pred in labels \n",
    "                 if other_true != label and other_pred != label)\n",
    "        \n",
    "        precision = TP / (TP + FP) if (TP + FP) > 0 else 0\n",
    "        recall = TP / (TP + FN) if (TP + FN) > 0 else 0\n",
    "        f1_score = (2 * precision * recall) / (precision + recall) if (precision + recall) > 0 else 0\n",
    "        \n",
    "        metrics[label] = {\n",
    "            'precision': precision,\n",
    "            'recall': recall,\n",
    "            'f1_score': f1_score,\n",
    "            'support': TP + FN\n",
    "        }\n",
    "    \n",
    "    return metrics"
   ]
  },
  {
   "cell_type": "markdown",
   "id": "42e2077d-881a-4ab3-9ca2-03cb5eb8da73",
   "metadata": {},
   "source": [
    "### Macro and weighted average:"
   ]
  },
  {
   "cell_type": "code",
   "execution_count": 39,
   "id": "edd66d6c-c31b-49bd-8d33-122527eee4e5",
   "metadata": {},
   "outputs": [],
   "source": [
    "def compute_averages(metrics, labels):\n",
    "    \"\"\"\n",
    "    Computes macro and weighted averages for precision, recall, and F1-score.\n",
    "    \n",
    "    Args:\n",
    "        metrics (dict): Classification metrics for each label.\n",
    "        labels (list): List of unique labels.\n",
    "        \n",
    "    Returns:\n",
    "        dict: Dictionary containing macro and weighted averages.\n",
    "    \"\"\"\n",
    "    macro = {'precision': 0, 'recall': 0, 'f1_score': 0}\n",
    "    weighted = {'precision': 0, 'recall': 0, 'f1_score': 0}\n",
    "    total_support = 0\n",
    "    \n",
    "    for label in labels:\n",
    "        macro['precision'] += metrics[label]['precision']\n",
    "        macro['recall'] += metrics[label]['recall']\n",
    "        macro['f1_score'] += metrics[label]['f1_score']\n",
    "        \n",
    "        weighted['precision'] += metrics[label]['precision'] * metrics[label]['support']\n",
    "        weighted['recall'] += metrics[label]['recall'] * metrics[label]['support']\n",
    "        weighted['f1_score'] += metrics[label]['f1_score'] * metrics[label]['support']\n",
    "        total_support += metrics[label]['support']\n",
    "    \n",
    "    macro_avg = {k: v / len(labels) for k, v in macro.items()}\n",
    "    weighted_avg = {k: v / total_support for k, v in weighted.items()}\n",
    "    \n",
    "    return {'macro_avg': macro_avg, 'weighted_avg': weighted_avg}"
   ]
  },
  {
   "cell_type": "markdown",
   "id": "230b3014-1807-4498-a211-9a9ec22f3b3b",
   "metadata": {},
   "source": [
    "## Combined:"
   ]
  },
  {
   "cell_type": "code",
   "execution_count": 40,
   "id": "50ad1123-2526-4735-a82c-e2db074f5043",
   "metadata": {},
   "outputs": [],
   "source": [
    "def evaluate_model(model, data_loader, device, int_to_label):\n",
    "    \"\"\"\n",
    "    Evaluates the model on the provided data_loader without using scikit-learn.\n",
    "    \n",
    "    Args:\n",
    "        model (nn.Module): Trained PyTorch model.\n",
    "        data_loader (DataLoader): DataLoader for the dataset.\n",
    "        device (torch.device): Device to run the evaluation on.\n",
    "        int_to_label (dict): Dictionary to decode integer labels back to original labels.\n",
    "    \n",
    "    Returns:\n",
    "        float: Accuracy of the model.\n",
    "    \"\"\"\n",
    "    model.eval()\n",
    "    all_preds = []\n",
    "    all_labels = []\n",
    "    \n",
    "    with torch.no_grad():\n",
    "        for inputs, labels in data_loader:\n",
    "            inputs = inputs.to(device)\n",
    "            labels = labels.to(device)\n",
    "            \n",
    "            outputs = model(inputs)\n",
    "            _, predicted = torch.max(outputs, 1)\n",
    "            \n",
    "            all_preds.extend(predicted.cpu().numpy())\n",
    "            all_labels.extend(labels.cpu().numpy())\n",
    "    \n",
    "    # Decode labels back to original\n",
    "    y_pred = [int_to_label[pred] for pred in all_preds]\n",
    "    y_true = [int_to_label[label] for label in all_labels]\n",
    "    \n",
    "    # Get list of unique labels\n",
    "    unique_labels = sorted(int_to_label.values())\n",
    "    \n",
    "    # Compute Confusion Matrix\n",
    "    cm = compute_confusion_matrix(y_true, y_pred, unique_labels)\n",
    "    \n",
    "    # Compute Classification Metrics\n",
    "    metrics = compute_classification_metrics(cm, unique_labels)\n",
    "    averages = compute_averages(metrics, unique_labels)\n",
    "    \n",
    "    # Print Classification Report\n",
    "    print(\"\\nClassification Report:\")\n",
    "    for label in unique_labels:\n",
    "        print(f\"Class: {label}\")\n",
    "        print(f\"  Precision: {metrics[label]['precision']:.2f}\")\n",
    "        print(f\"  Recall:    {metrics[label]['recall']:.2f}\")\n",
    "        print(f\"  F1-Score:  {metrics[label]['f1_score']:.2f}\")\n",
    "        print(f\"  Support:   {metrics[label]['support']}\")\n",
    "        print()\n",
    "    \n",
    "    print(\"Macro Average:\")\n",
    "    for metric, value in averages['macro_avg'].items():\n",
    "        print(f\"  {metric.capitalize()}: {value:.2f}\")\n",
    "    print()\n",
    "    \n",
    "    print(\"Weighted Average:\")\n",
    "    for metric, value in averages['weighted_avg'].items():\n",
    "        print(f\"  {metric.capitalize()}: {value:.2f}\")\n",
    "    print()\n",
    "    \n",
    "    # Convert Confusion Matrix to List of Lists for plotting\n",
    "    cm_matrix = []\n",
    "    for true_label in unique_labels:\n",
    "        row = []\n",
    "        for pred_label in unique_labels:\n",
    "            row.append(cm[true_label][pred_label])\n",
    "        cm_matrix.append(row)\n",
    "    \n",
    "    # Plot Confusion Matrix\n",
    "    plt.figure(figsize=(10, 8))\n",
    "    sns.heatmap(cm_matrix, annot=True, fmt='d', cmap='Blues',\n",
    "                xticklabels=unique_labels,\n",
    "                yticklabels=unique_labels)\n",
    "    plt.title('Confusion Matrix - Neural Network')\n",
    "    plt.ylabel('True Label')\n",
    "    plt.xlabel('Predicted Label')\n",
    "    plt.show()\n",
    "    \n",
    "    # Compute and Print Accuracy\n",
    "    accuracy = compute_accuracy(y_true, y_pred)\n",
    "    print(f\"Neural Network Accuracy: {accuracy:.4f}\")\n",
    "    \n",
    "    return accuracy"
   ]
  },
  {
   "cell_type": "markdown",
   "id": "6b74ec30-68a4-40b1-85d6-4d899b1b7f48",
   "metadata": {},
   "source": [
    "## Evaluation report:"
   ]
  },
  {
   "cell_type": "code",
   "execution_count": 41,
   "id": "be62fd65-73df-46b6-a4b5-dc9678f8140b",
   "metadata": {},
   "outputs": [
    {
     "name": "stdout",
     "output_type": "stream",
     "text": [
      "\n",
      "Classification Report:\n",
      "Class: business\n",
      "  Precision: 0.96\n",
      "  Recall:    0.96\n",
      "  F1-Score:  0.96\n",
      "  Support:   90\n",
      "\n",
      "Class: entertainment\n",
      "  Precision: 0.96\n",
      "  Recall:    0.99\n",
      "  F1-Score:  0.97\n",
      "  Support:   86\n",
      "\n",
      "Class: international\n",
      "  Precision: 0.94\n",
      "  Recall:    0.91\n",
      "  F1-Score:  0.92\n",
      "  Support:   98\n",
      "\n",
      "Class: science-technology\n",
      "  Precision: 0.92\n",
      "  Recall:    0.94\n",
      "  F1-Score:  0.93\n",
      "  Support:   98\n",
      "\n",
      "Class: sports\n",
      "  Precision: 0.99\n",
      "  Recall:    0.96\n",
      "  F1-Score:  0.98\n",
      "  Support:   84\n",
      "\n",
      "Macro Average:\n",
      "  Precision: 0.95\n",
      "  Recall: 0.95\n",
      "  F1_score: 0.95\n",
      "\n",
      "Weighted Average:\n",
      "  Precision: 0.95\n",
      "  Recall: 0.95\n",
      "  F1_score: 0.95\n",
      "\n"
     ]
    },
    {
     "data": {
      "image/png": "[encoded data removed]",
      "text/plain": [
       "<Figure size 1000x800 with 2 Axes>"
      ]
     },
     "metadata": {},
     "output_type": "display_data"
    },
    {
     "name": "stdout",
     "output_type": "stream",
     "text": [
      "Neural Network Accuracy: 0.9496\n"
     ]
    }
   ],
   "source": [
    "accuracy_nn = evaluate_model(model, test_loader, device, int_to_label)"
   ]
  },
  {
   "cell_type": "markdown",
   "id": "c176dbb2-18b5-4d2a-9f8d-354d7947cf68",
   "metadata": {},
   "source": [
    "## Let's try to improve it:"
   ]
  },
  {
   "cell_type": "markdown",
   "id": "d4e9ff80-9158-4783-8807-af42ce18e50d",
   "metadata": {},
   "source": [
    "### (i) Hyperparameter tuning:\n",
    "Increasing hidden sizes and adjusting dropout"
   ]
  },
  {
   "cell_type": "code",
   "execution_count": 42,
   "id": "b23ab58c-03e5-44d1-bbb4-538a404f142d",
   "metadata": {},
   "outputs": [
    {
     "name": "stdout",
     "output_type": "stream",
     "text": [
      "\n",
      "Enhanced Neural Network Architecture:\n",
      "EnhancedNewsClassifier(\n",
      "  (fc1): Linear(in_features=56800, out_features=256, bias=True)\n",
      "  (relu1): ReLU()\n",
      "  (dropout1): Dropout(p=0.3, inplace=False)\n",
      "  (fc2): Linear(in_features=256, out_features=128, bias=True)\n",
      "  (relu2): ReLU()\n",
      "  (dropout2): Dropout(p=0.3, inplace=False)\n",
      "  (fc3): Linear(in_features=128, out_features=5, bias=True)\n",
      ")\n"
     ]
    }
   ],
   "source": [
    "class EnhancedNewsClassifier(nn.Module):\n",
    "    def __init__(self, input_size, hidden_size1, hidden_size2, num_classes, dropout=0.3):\n",
    "        super(EnhancedNewsClassifier, self).__init__()\n",
    "        self.fc1 = nn.Linear(input_size, hidden_size1)\n",
    "        self.relu1 = nn.ReLU()\n",
    "        self.dropout1 = nn.Dropout(dropout)\n",
    "        self.fc2 = nn.Linear(hidden_size1, hidden_size2)\n",
    "        self.relu2 = nn.ReLU()\n",
    "        self.dropout2 = nn.Dropout(dropout)\n",
    "        self.fc3 = nn.Linear(hidden_size2, num_classes)\n",
    "    \n",
    "    def forward(self, x):\n",
    "        out = self.fc1(x)\n",
    "        out = self.relu1(out)\n",
    "        out = self.dropout1(out)\n",
    "        out = self.fc2(out)\n",
    "        out = self.relu2(out)\n",
    "        out = self.dropout2(out)\n",
    "        out = self.fc3(out)\n",
    "        return out\n",
    "\n",
    "# Initialize the enhanced model\n",
    "hidden_size1 = 256\n",
    "hidden_size2 = 128\n",
    "dropout = 0.3\n",
    "\n",
    "model_enhanced = EnhancedNewsClassifier(input_size, hidden_size1, hidden_size2, num_classes, dropout)\n",
    "model_enhanced.to(device)\n",
    "print(\"\\nEnhanced Neural Network Architecture:\")\n",
    "print(model_enhanced)"
   ]
  },
  {
   "cell_type": "markdown",
   "id": "60ff2958-82c4-42de-bb4c-029dea80aff3",
   "metadata": {},
   "source": [
    "### (ii) Retrain:"
   ]
  },
  {
   "cell_type": "code",
   "execution_count": 43,
   "id": "ba6ecd11-c543-4502-b954-34bd55843c68",
   "metadata": {},
   "outputs": [
    {
     "name": "stdout",
     "output_type": "stream",
     "text": [
      "Epoch [1/25] Train Loss: 1.5824, Train Acc: 0.3814 Val Loss: 1.5137, Val Acc: 0.7522\n",
      "Epoch [2/25] Train Loss: 1.2451, Train Acc: 0.8816 Val Loss: 0.9296, Val Acc: 0.9386\n",
      "Epoch [3/25] Train Loss: 0.4959, Train Acc: 0.9715 Val Loss: 0.3755, Val Acc: 0.9386\n",
      "EarlyStopping counter: 1 out of 5\n",
      "Epoch [4/25] Train Loss: 0.1501, Train Acc: 0.9858 Val Loss: 0.2488, Val Acc: 0.9430\n",
      "Epoch [5/25] Train Loss: 0.0663, Train Acc: 0.9940 Val Loss: 0.2166, Val Acc: 0.9342\n",
      "EarlyStopping counter: 1 out of 5\n",
      "Epoch [6/25] Train Loss: 0.0345, Train Acc: 0.9978 Val Loss: 0.1983, Val Acc: 0.9408\n",
      "EarlyStopping counter: 2 out of 5\n",
      "Epoch [7/25] Train Loss: 0.0218, Train Acc: 0.9984 Val Loss: 0.1929, Val Acc: 0.9430\n",
      "EarlyStopping counter: 3 out of 5\n",
      "Epoch [8/25] Train Loss: 0.0143, Train Acc: 0.9989 Val Loss: 0.1901, Val Acc: 0.9452\n",
      "Epoch [9/25] Train Loss: 0.0123, Train Acc: 0.9984 Val Loss: 0.1897, Val Acc: 0.9452\n",
      "EarlyStopping counter: 1 out of 5\n",
      "Epoch [10/25] Train Loss: 0.0081, Train Acc: 0.9989 Val Loss: 0.1899, Val Acc: 0.9452\n",
      "EarlyStopping counter: 2 out of 5\n",
      "Epoch [11/25] Train Loss: 0.0067, Train Acc: 0.9995 Val Loss: 0.1883, Val Acc: 0.9452\n",
      "EarlyStopping counter: 3 out of 5\n",
      "Epoch [12/25] Train Loss: 0.0047, Train Acc: 1.0000 Val Loss: 0.1882, Val Acc: 0.9452\n",
      "EarlyStopping counter: 4 out of 5\n",
      "Epoch [13/25] Train Loss: 0.0041, Train Acc: 0.9995 Val Loss: 0.1897, Val Acc: 0.9474\n",
      "Epoch [14/25] Train Loss: 0.0048, Train Acc: 0.9989 Val Loss: 0.1901, Val Acc: 0.9452\n",
      "EarlyStopping counter: 1 out of 5\n",
      "Epoch [15/25] Train Loss: 0.0030, Train Acc: 0.9995 Val Loss: 0.1916, Val Acc: 0.9474\n",
      "EarlyStopping counter: 2 out of 5\n",
      "Epoch [16/25] Train Loss: 0.0030, Train Acc: 0.9995 Val Loss: 0.1945, Val Acc: 0.9452\n",
      "EarlyStopping counter: 3 out of 5\n",
      "Epoch [17/25] Train Loss: 0.0026, Train Acc: 0.9995 Val Loss: 0.1953, Val Acc: 0.9408\n",
      "EarlyStopping counter: 4 out of 5\n",
      "Epoch [18/25] Train Loss: 0.0018, Train Acc: 1.0000 Val Loss: 0.1957, Val Acc: 0.9452\n",
      "EarlyStopping counter: 5 out of 5\n",
      "Early stopping!\n"
     ]
    },
    {
     "data": {
      "text/plain": [
       "<All keys matched successfully>"
      ]
     },
     "execution_count": 43,
     "metadata": {},
     "output_type": "execute_result"
    }
   ],
   "source": [
    "# Define Loss Function and Optimizer for the enhanced model\n",
    "criterion_enhanced = nn.CrossEntropyLoss(weight=torch.tensor(class_weights, dtype=torch.float32).to(device))\n",
    "optimizer_enhanced = optim.Adam(model_enhanced.parameters(), lr=0.0005)\n",
    "\n",
    "# Training Parameters\n",
    "num_epochs_enhanced = 25\n",
    "\n",
    "# To store training and validation metrics\n",
    "train_losses_enhanced = []\n",
    "train_accuracies_enhanced = []\n",
    "val_losses_enhanced = []\n",
    "val_accuracies_enhanced = []\n",
    "\n",
    "# Early Stopping Parameters\n",
    "best_val_acc_enhanced = 0.0\n",
    "best_model_wts_enhanced = copy.deepcopy(model_enhanced.state_dict())\n",
    "patience_enhanced = 5\n",
    "trigger_times_enhanced = 0\n",
    "\n",
    "for epoch in range(num_epochs_enhanced):\n",
    "    model_enhanced.train()\n",
    "    running_loss = 0.0\n",
    "    correct_predictions = 0\n",
    "    total_predictions = 0\n",
    "    \n",
    "    for inputs, labels in train_loader:\n",
    "        inputs = inputs.to(device)\n",
    "        labels = labels.to(device)\n",
    "        \n",
    "        # Zero the parameter gradients\n",
    "        optimizer_enhanced.zero_grad()\n",
    "        \n",
    "        # Forward pass\n",
    "        outputs = model_enhanced(inputs)\n",
    "        loss = criterion_enhanced(outputs, labels)\n",
    "        \n",
    "        # Backward pass and optimization\n",
    "        loss.backward()\n",
    "        optimizer_enhanced.step()\n",
    "        \n",
    "        # Statistics\n",
    "        running_loss += loss.item() * inputs.size(0)\n",
    "        _, predicted = torch.max(outputs, 1)\n",
    "        correct_predictions += (predicted == labels).sum().item()\n",
    "        total_predictions += labels.size(0)\n",
    "    \n",
    "    epoch_loss = running_loss / total_predictions\n",
    "    epoch_acc = correct_predictions / total_predictions\n",
    "    train_losses_enhanced.append(epoch_loss)\n",
    "    train_accuracies_enhanced.append(epoch_acc)\n",
    "    \n",
    "    # Validation\n",
    "    model_enhanced.eval()\n",
    "    val_running_loss = 0.0\n",
    "    val_correct_predictions = 0\n",
    "    val_total_predictions = 0\n",
    "    \n",
    "    with torch.no_grad():\n",
    "        for inputs, labels in test_loader:\n",
    "            inputs = inputs.to(device)\n",
    "            labels = labels.to(device)\n",
    "            \n",
    "            outputs = model_enhanced(inputs)\n",
    "            loss = criterion_enhanced(outputs, labels)\n",
    "            \n",
    "            val_running_loss += loss.item() * inputs.size(0)\n",
    "            _, predicted = torch.max(outputs, 1)\n",
    "            val_correct_predictions += (predicted == labels).sum().item()\n",
    "            val_total_predictions += labels.size(0)\n",
    "    \n",
    "    val_epoch_loss = val_running_loss / val_total_predictions\n",
    "    val_epoch_acc = val_correct_predictions / val_total_predictions\n",
    "    val_losses_enhanced.append(val_epoch_loss)\n",
    "    val_accuracies_enhanced.append(val_epoch_acc)\n",
    "    \n",
    "    print(f\"Epoch [{epoch+1}/{num_epochs_enhanced}] \"\n",
    "          f\"Train Loss: {epoch_loss:.4f}, Train Acc: {epoch_acc:.4f} \"\n",
    "          f\"Val Loss: {val_epoch_loss:.4f}, Val Acc: {val_epoch_acc:.4f}\")\n",
    "    \n",
    "    # Early Stopping\n",
    "    if val_epoch_acc > best_val_acc_enhanced:\n",
    "        best_val_acc_enhanced = val_epoch_acc\n",
    "        best_model_wts_enhanced = copy.deepcopy(model_enhanced.state_dict())\n",
    "        trigger_times_enhanced = 0\n",
    "    else:\n",
    "        trigger_times_enhanced += 1\n",
    "        print(f'EarlyStopping counter: {trigger_times_enhanced} out of {patience_enhanced}')\n",
    "        if trigger_times_enhanced >= patience_enhanced:\n",
    "            print('Early stopping!')\n",
    "            break\n",
    "\n",
    "# Load best model weights\n",
    "model_enhanced.load_state_dict(best_model_wts_enhanced)"
   ]
  },
  {
   "cell_type": "markdown",
   "id": "c48b4559-e1d3-455c-89a4-8d5b5ed4bbf8",
   "metadata": {},
   "source": [
    "### (iii) Evaluate new version:"
   ]
  },
  {
   "cell_type": "code",
   "execution_count": 44,
   "id": "19043fbd-786b-4e11-a5f1-f077b9d02d97",
   "metadata": {},
   "outputs": [
    {
     "name": "stdout",
     "output_type": "stream",
     "text": [
      "\n",
      "Classification Report:\n",
      "Class: business\n",
      "  Precision: 0.95\n",
      "  Recall:    0.96\n",
      "  F1-Score:  0.95\n",
      "  Support:   90\n",
      "\n",
      "Class: entertainment\n",
      "  Precision: 0.96\n",
      "  Recall:    0.99\n",
      "  F1-Score:  0.97\n",
      "  Support:   86\n",
      "\n",
      "Class: international\n",
      "  Precision: 0.94\n",
      "  Recall:    0.91\n",
      "  F1-Score:  0.92\n",
      "  Support:   98\n",
      "\n",
      "Class: science-technology\n",
      "  Precision: 0.92\n",
      "  Recall:    0.93\n",
      "  F1-Score:  0.92\n",
      "  Support:   98\n",
      "\n",
      "Class: sports\n",
      "  Precision: 0.99\n",
      "  Recall:    0.96\n",
      "  F1-Score:  0.98\n",
      "  Support:   84\n",
      "\n",
      "Macro Average:\n",
      "  Precision: 0.95\n",
      "  Recall: 0.95\n",
      "  F1_score: 0.95\n",
      "\n",
      "Weighted Average:\n",
      "  Precision: 0.95\n",
      "  Recall: 0.95\n",
      "  F1_score: 0.95\n",
      "\n"
     ]
    },
    {
     "data": {
      "image/png": "[encoded data removed]",
      "text/plain": [
       "<Figure size 1000x800 with 2 Axes>"
      ]
     },
     "metadata": {},
     "output_type": "display_data"
    },
    {
     "name": "stdout",
     "output_type": "stream",
     "text": [
      "Neural Network Accuracy: 0.9474\n"
     ]
    }
   ],
   "source": [
    "accuracy_enhanced = evaluate_model(model_enhanced, test_loader, device, int_to_label)"
   ]
  },
  {
   "cell_type": "markdown",
   "id": "6e1169bd-8533-4a48-af1a-bcb5341e273c",
   "metadata": {},
   "source": [
    "Not much better than before, but it was worth trying... Maybe a more comprehensive list of stopwords could further improve accuracy. "
   ]
  },
  {
   "cell_type": "code",
   "execution_count": null,
   "id": "2106779f-2d5b-4690-8eaf-cee520166805",
   "metadata": {},
   "outputs": [],
   "source": []
  }
 ],
 "metadata": {
  "kernelspec": {
   "display_name": "Python 3 (ipykernel)",
   "language": "python",
   "name": "python3"
  },
  "language_info": {
   "codemirror_mode": {
    "name": "ipython",
    "version": 3
   },
   "file_extension": ".py",
   "mimetype": "text/x-python",
   "name": "python",
   "nbconvert_exporter": "python",
   "pygments_lexer": "ipython3",
   "version": "3.11.5"
  }
 },
 "nbformat": 4,
 "nbformat_minor": 5
}
