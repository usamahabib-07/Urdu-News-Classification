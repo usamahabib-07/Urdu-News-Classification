{
 "cells": [
  {
   "cell_type": "markdown",
   "id": "7435c0e1-bbcb-4124-9da7-0a38050ee7fb",
   "metadata": {
    "id": "7435c0e1-bbcb-4124-9da7-0a38050ee7fb"
   },
   "source": [
    "# SVM implementation"
   ]
  },
  {
   "cell_type": "markdown",
   "id": "e1956033-ef07-4317-8dbb-50189fbfde4f",
   "metadata": {
    "id": "e1956033-ef07-4317-8dbb-50189fbfde4f"
   },
   "source": [
    "### Library imports"
   ]
  },
  {
   "cell_type": "code",
   "execution_count": 1,
   "id": "dbb5c443-2484-42a3-b430-8c2f8cd951f3",
   "metadata": {
    "id": "dbb5c443-2484-42a3-b430-8c2f8cd951f3"
   },
   "outputs": [],
   "source": [
    "# General Libraries\n",
    "import pandas as pd\n",
    "import numpy as np\n",
    "import re\n",
    "import string\n",
    "from collections import defaultdict\n",
    "import matplotlib.pyplot as plt\n",
    "import seaborn as sns\n",
    "from sklearn.utils.class_weight import compute_class_weight\n",
    "\n",
    "# PyTorch Libraries\n",
    "import torch\n",
    "import torch.nn as nn\n",
    "import torch.optim as optim\n",
    "from torch.utils.data import Dataset, DataLoader\n",
    "\n",
    "# Miscellaneous\n",
    "import joblib\n",
    "import copy\n",
    "import os\n",
    "\n",
    "# Set random seeds for reproducibility\n",
    "torch.manual_seed(42)\n",
    "np.random.seed(42)"
   ]
  },
  {
   "cell_type": "markdown",
   "id": "4fd1e9c0-795a-4671-b057-04632c96b6fe",
   "metadata": {
    "id": "4fd1e9c0-795a-4671-b057-04632c96b6fe"
   },
   "source": [
    "### Load and explore dataset"
   ]
  },
  {
   "cell_type": "code",
   "execution_count": 2,
   "id": "226f6f05-e0c6-4a19-9b5b-9fb64b180269",
   "metadata": {
    "colab": {
     "base_uri": "https://localhost:8080/"
    },
    "id": "226f6f05-e0c6-4a19-9b5b-9fb64b180269",
    "outputId": "c4927004-90cf-44d3-d47c-9571df200606"
   },
   "outputs": [
    {
     "name": "stdout",
     "output_type": "stream",
     "text": [
      "First few rows of the dataset:\n",
      "     id                                              title  \\\n",
      "0   526   یوٹیلیٹی اسٹورز پر چینی کی قیمت میں کمی کردی گئی   \n",
      "1  1462            ایڈیلیڈ میچ کے ہیرو حارث رؤف کی سالگرہ   \n",
      "2  1515  ’’پیگماٹائٹ‘‘ یہ نایاب پتھروں اور غیرمعمولی عن...   \n",
      "3  1656  جوبائیڈن کا ڈونلڈ ٹرمپ کو فون، جیت پر مبارک با...   \n",
      "4  1840             پاکستان میں آج سونے کی قیمت کیا رہی ؟   \n",
      "\n",
      "                                 link  \\\n",
      "0  https://urdu.geo.tv/latest/385946-   \n",
      "1    https://jang.com.pk/news/1409128   \n",
      "2    https://jang.com.pk/news/1309594   \n",
      "3    https://jang.com.pk/news/1408469   \n",
      "4    https://urdu.samaa.tv/2087324435   \n",
      "\n",
      "                                             content          gold_label  \\\n",
      "0  اسلام آباد: یوٹیلیٹی اسٹورز کارپوریشن نے چینی...            business   \n",
      "1  قومی کرکٹ ٹیم کے فاسٹ بولر اور آسٹریلیا کے خل...              sports   \n",
      "2  نایاب پتھروں یا انمول نگینوں کی تلاش اور پھر ح...  science-technology   \n",
      "3  امریکی صدر جوبائیڈن نے ری پبلکن پارٹی کے امیدو...       international   \n",
      "4  عالمی منڈی اور پاکستان بھر میں آج سونے کی قیم...            business   \n",
      "\n",
      "                                   processed_content  \n",
      "0  ['اسلام', 'آباد', 'یوٹیلیٹی', 'اسٹورز', 'کارپو...  \n",
      "1  ['قومی', 'کرکٹ', 'ٹیم', 'کے', 'فاسٹ', 'بولر', ...  \n",
      "2  ['نایاب', 'پتھروں', 'یا', 'انمول', 'نگینوں', '...  \n",
      "3  ['امریکی', 'صدر', 'جوبائیڈن', 'نے', 'ری', 'پبل...  \n",
      "4  ['عالمی', 'منڈی', 'اور', 'پاکستان', 'بھر', 'می...  \n",
      "\n",
      "Data types of each column:\n",
      "id                    int64\n",
      "title                object\n",
      "link                 object\n",
      "content              object\n",
      "gold_label           object\n",
      "processed_content    object\n",
      "dtype: object\n",
      "\n",
      "Missing values in each column:\n",
      "id                   0\n",
      "title                0\n",
      "link                 0\n",
      "content              0\n",
      "gold_label           0\n",
      "processed_content    0\n",
      "dtype: int64\n",
      "\n",
      "Number of duplicated rows: 0\n",
      "Dataset shape after removing duplicates: (2281, 6)\n"
     ]
    }
   ],
   "source": [
    "# Define the path to your dataset\n",
    "data_path = 'normalized_and_tokenized_combined_data.xlsx'\n",
    "\n",
    "# Load the dataset\n",
    "df = pd.read_excel(data_path)\n",
    "\n",
    "print(\"First few rows of the dataset:\")\n",
    "print(df.head())\n",
    "\n",
    "print(\"\\nData types of each column:\")\n",
    "print(df.dtypes)\n",
    "\n",
    "print(\"\\nMissing values in each column:\")\n",
    "print(df.isnull().sum())\n",
    "\n",
    "print(\"\\nNumber of duplicated rows:\", df.duplicated().sum())\n",
    "\n",
    "df = df.drop_duplicates()\n",
    "print(\"Dataset shape after removing duplicates:\", df.shape)"
   ]
  },
  {
   "cell_type": "markdown",
   "id": "25decb01-cd5f-48b8-b8bc-648a6059c5fd",
   "metadata": {
    "id": "25decb01-cd5f-48b8-b8bc-648a6059c5fd"
   },
   "source": [
    "### Data preprocessing:"
   ]
  },
  {
   "cell_type": "markdown",
   "id": "2feb332d-5c3b-49a2-a63d-2e295d848794",
   "metadata": {
    "id": "2feb332d-5c3b-49a2-a63d-2e295d848794"
   },
   "source": [
    "#### (i) Normalizing:"
   ]
  },
  {
   "cell_type": "code",
   "execution_count": 3,
   "id": "69d61a10-b1ed-4be5-9103-756aec21b258",
   "metadata": {
    "id": "69d61a10-b1ed-4be5-9103-756aec21b258"
   },
   "outputs": [],
   "source": [
    "def normalize_text(text):\n",
    "    \"\"\"\n",
    "    Normalize Urdu text by:\n",
    "    - Converting to lowercase\n",
    "    - Removing punctuation\n",
    "    - Removing numbers\n",
    "    - Removing extra whitespace\n",
    "    \"\"\"\n",
    "    # Convert to string (in case of any non-string entries)\n",
    "    text = str(text)\n",
    "\n",
    "    # Convert to lowercase\n",
    "    text = text.lower()\n",
    "\n",
    "    # Remove punctuation\n",
    "    text = text.translate(str.maketrans('', '', string.punctuation))\n",
    "\n",
    "    # Remove numbers\n",
    "    text = re.sub(r'\\d+', '', text)\n",
    "\n",
    "    # Remove extra whitespace\n",
    "    text = re.sub(r'\\s+', ' ', text).strip()\n",
    "\n",
    "    return text"
   ]
  },
  {
   "cell_type": "markdown",
   "id": "4d71b214-cbf1-4c32-a4b6-186169150c67",
   "metadata": {
    "id": "4d71b214-cbf1-4c32-a4b6-186169150c67"
   },
   "source": [
    "#### (ii) Tokenizing:"
   ]
  },
  {
   "cell_type": "code",
   "execution_count": 4,
   "id": "935065eb-39a4-4a79-b207-8fac3916bbec",
   "metadata": {
    "id": "935065eb-39a4-4a79-b207-8fac3916bbec"
   },
   "outputs": [],
   "source": [
    "def tokenize_text(text):\n",
    "    \"\"\"\n",
    "    Tokenize the normalized text into words.\n",
    "    \"\"\"\n",
    "    # Split text by whitespace\n",
    "    tokens = text.split()\n",
    "\n",
    "    # Remove stopwords (common words that are not useful for classification)\n",
    "    # this is a smaller set of stopwords, we have uploaded another larger list on the GitHub\n",
    "    # which is more comprehensive\n",
    "    stopwords_urdu = set([\n",
    "        'اور', 'میں', 'کو', 'کا', 'کی', 'کیوں', 'ہو', 'ہیں', 'ہوں', 'یہ', 'وہ',\n",
    "        'وہاں', 'تھا', 'تھی', 'تھے', 'کر', 'کرنے',\n",
    "        'کیا', 'ہوتا', 'ہوتی', 'ہوتے', 'گا', 'گی', 'گے', 'جائے', 'جانا'\n",
    "    ])\n",
    "\n",
    "    tokens = [token for token in tokens if token not in stopwords_urdu]\n",
    "\n",
    "    return tokens"
   ]
  },
  {
   "cell_type": "markdown",
   "id": "d73e2451-9b42-4daa-833c-0632289c08b9",
   "metadata": {
    "id": "d73e2451-9b42-4daa-833c-0632289c08b9"
   },
   "source": [
    "#### Apply normalization and tokenization:"
   ]
  },
  {
   "cell_type": "code",
   "execution_count": 5,
   "id": "57bdaca1-934e-46e6-abd5-0c525753ef28",
   "metadata": {
    "colab": {
     "base_uri": "https://localhost:8080/"
    },
    "id": "57bdaca1-934e-46e6-abd5-0c525753ef28",
    "outputId": "e7493e0d-54df-4304-82c3-79a37898b7d7"
   },
   "outputs": [
    {
     "name": "stdout",
     "output_type": "stream",
     "text": [
      "\n",
      "Sample of processed content:\n",
      "                                             content  \\\n",
      "0  اسلام آباد: یوٹیلیٹی اسٹورز کارپوریشن نے چینی...   \n",
      "1  قومی کرکٹ ٹیم کے فاسٹ بولر اور آسٹریلیا کے خل...   \n",
      "2  نایاب پتھروں یا انمول نگینوں کی تلاش اور پھر ح...   \n",
      "3  امریکی صدر جوبائیڈن نے ری پبلکن پارٹی کے امیدو...   \n",
      "4  عالمی منڈی اور پاکستان بھر میں آج سونے کی قیم...   \n",
      "\n",
      "                                   processed_content  \n",
      "0  [اسلام, آباد, یوٹیلیٹی, اسٹورز, کارپوریشن, نے...  \n",
      "1  [قومی, کرکٹ, ٹیم, کے, فاسٹ, بولر, آسٹریلیا, ک...  \n",
      "2  [نایاب, پتھروں, یا, انمول, نگینوں, تلاش, پھر, ...  \n",
      "3  [امریکی, صدر, جوبائیڈن, نے, ری, پبلکن, پارٹی, ...  \n",
      "4  [عالمی, منڈی, پاکستان, بھر, آج, سونے, قیمت, ب...  \n"
     ]
    }
   ],
   "source": [
    "# Apply normalization\n",
    "df['normalized_content'] = df['content'].apply(normalize_text)\n",
    "\n",
    "# Apply tokenization\n",
    "df['processed_content'] = df['normalized_content'].apply(tokenize_text)\n",
    "\n",
    "# Verify the preprocessing\n",
    "print(\"\\nSample of processed content:\")\n",
    "print(df[['content', 'processed_content']].head())"
   ]
  },
  {
   "cell_type": "markdown",
   "id": "602aad1b-3562-4fee-8420-b034ea17ce95",
   "metadata": {
    "id": "602aad1b-3562-4fee-8420-b034ea17ce95"
   },
   "source": [
    "### Vectorizer:"
   ]
  },
  {
   "cell_type": "code",
   "execution_count": 6,
   "id": "0cc35c12-a18a-4de5-bc95-2d3eb22c83c9",
   "metadata": {
    "id": "0cc35c12-a18a-4de5-bc95-2d3eb22c83c9"
   },
   "outputs": [],
   "source": [
    "class CustomTFIDF:\n",
    "    def __init__(self, min_df=2, max_df=0.95, ngram_range=(1,1)):\n",
    "        \"\"\"\n",
    "        Initialize the CustomTFIDF vectorizer.\n",
    "\n",
    "        Args:\n",
    "            min_df (int): Minimum document frequency.\n",
    "            max_df (float): Maximum document frequency (as a fraction).\n",
    "            ngram_range (tuple): The lower and upper boundary of the range of n-values for different n-grams to be extracted.\n",
    "        \"\"\"\n",
    "        self.min_df = min_df\n",
    "        self.max_df = max_df\n",
    "        self.ngram_range = ngram_range\n",
    "        self.vocabulary_ = {}\n",
    "        self.idf_ = {}\n",
    "\n",
    "    def _generate_ngrams(self, tokens):\n",
    "        \"\"\"\n",
    "        Generate n-grams from tokens based on the specified ngram_range.\n",
    "        \"\"\"\n",
    "        lower, upper = self.ngram_range\n",
    "        ngrams = []\n",
    "        for n in range(lower, upper + 1):\n",
    "            ngrams += [' '.join(tokens[i:i+n]) for i in range(len(tokens)-n+1)]\n",
    "        return ngrams\n",
    "\n",
    "    def fit(self, documents):\n",
    "        \"\"\"\n",
    "        Learn vocabulary and idf from the training documents.\n",
    "        \"\"\"\n",
    "        df_counts = defaultdict(int)  # Document frequency for each term\n",
    "        total_docs = len(documents)\n",
    "\n",
    "        for doc in documents:\n",
    "            terms = set(self._generate_ngrams(doc))\n",
    "            for term in terms:\n",
    "                df_counts[term] += 1\n",
    "\n",
    "        # Apply min_df and max_df\n",
    "        filtered_terms = [term for term, count in df_counts.items()\n",
    "                         if count >= self.min_df and (count / total_docs) <= self.max_df]\n",
    "\n",
    "        # Assign indices to terms\n",
    "        self.vocabulary_ = {term: idx for idx, term in enumerate(filtered_terms)}\n",
    "\n",
    "        # Calculate idf for each term\n",
    "        self.idf_ = {term: np.log((1 + total_docs) / (1 + df_counts[term])) + 1 for term in self.vocabulary_}\n",
    "\n",
    "    def transform(self, documents):\n",
    "        \"\"\"\n",
    "        Transform documents to TF-IDF matrix.\n",
    "        \"\"\"\n",
    "        rows = len(documents)\n",
    "        cols = len(self.vocabulary_)\n",
    "        tfidf_matrix = np.zeros((rows, cols))\n",
    "\n",
    "        for i, doc in enumerate(documents):\n",
    "            terms = self._generate_ngrams(doc)\n",
    "            term_counts = defaultdict(int)\n",
    "            for term in terms:\n",
    "                if term in self.vocabulary_:\n",
    "                    term_counts[term] += 1\n",
    "            total_terms = len(terms)\n",
    "            for term, count in term_counts.items():\n",
    "                tf = count / total_terms\n",
    "                idf = self.idf_[term]\n",
    "                tfidf_matrix[i, self.vocabulary_[term]] = tf * idf\n",
    "\n",
    "        return tfidf_matrix\n",
    "\n",
    "    def fit_transform(self, documents):\n",
    "        \"\"\"\n",
    "        Fit to data, then transform it.\n",
    "        \"\"\"\n",
    "        self.fit(documents)\n",
    "        return self.transform(documents)"
   ]
  },
  {
   "cell_type": "markdown",
   "id": "4eefbb8a-6f1f-42bc-be8d-0426c164258f",
   "metadata": {
    "id": "4eefbb8a-6f1f-42bc-be8d-0426c164258f"
   },
   "source": [
    "### Perform train-test split (without `sklearn`)"
   ]
  },
  {
   "cell_type": "code",
   "execution_count": 7,
   "id": "318305af-0a03-4469-99bd-419c164655e0",
   "metadata": {
    "colab": {
     "base_uri": "https://localhost:8080/"
    },
    "id": "318305af-0a03-4469-99bd-419c164655e0",
    "outputId": "438ddf73-d1f0-4176-9fff-b23ed735da5e"
   },
   "outputs": [
    {
     "name": "stdout",
     "output_type": "stream",
     "text": [
      "Training set shape: (1825, 7)\n",
      "Testing set shape: (456, 7)\n"
     ]
    }
   ],
   "source": [
    "def manual_train_test_split(df, test_size=0.2, random_state=42):\n",
    "    \"\"\"\n",
    "    Split the DataFrame into training and testing sets manually.\n",
    "\n",
    "    Args:\n",
    "        df (pd.DataFrame): The complete DataFrame.\n",
    "        test_size (float): Proportion of the dataset to include in the test split.\n",
    "        random_state (int): Seed for reproducibility.\n",
    "\n",
    "    Returns:\n",
    "        pd.DataFrame, pd.DataFrame: Training and testing DataFrames.\n",
    "    \"\"\"\n",
    "    np.random.seed(random_state)\n",
    "    shuffled_indices = np.random.permutation(len(df))\n",
    "    test_count = int(len(df) * test_size)\n",
    "    test_indices = shuffled_indices[:test_count]\n",
    "    train_indices = shuffled_indices[test_count:]\n",
    "\n",
    "    train_df = df.iloc[train_indices].reset_index(drop=True)\n",
    "    test_df = df.iloc[test_indices].reset_index(drop=True)\n",
    "\n",
    "    return train_df, test_df\n",
    "\n",
    "# Perform the split\n",
    "train_df, test_df = manual_train_test_split(df, test_size=0.2, random_state=42)\n",
    "\n",
    "print(\"Training set shape:\", train_df.shape)\n",
    "print(\"Testing set shape:\", test_df.shape)"
   ]
  },
  {
   "cell_type": "markdown",
   "id": "5f79fe31-deb6-4278-9086-064be93c51d6",
   "metadata": {
    "id": "5f79fe31-deb6-4278-9086-064be93c51d6"
   },
   "source": [
    "#### Initialize and fit the vectorizer:"
   ]
  },
  {
   "cell_type": "code",
   "execution_count": 8,
   "id": "a5044631-3f77-4a98-a69a-53153f0aa72b",
   "metadata": {
    "colab": {
     "base_uri": "https://localhost:8080/"
    },
    "id": "a5044631-3f77-4a98-a69a-53153f0aa72b",
    "outputId": "de4de538-783d-4597-9b2a-534b5c32d7d5"
   },
   "outputs": [
    {
     "name": "stdout",
     "output_type": "stream",
     "text": [
      "Custom TF-IDF matrix shape:\n",
      "X_train: (1825, 100329)\n",
      "X_test: (456, 100329)\n"
     ]
    }
   ],
   "source": [
    "# Initialize the CustomTFIDF vectorizer\n",
    "custom_tfidf = CustomTFIDF(min_df=2, max_df=0.95, ngram_range=(1,3)) \n",
    "\n",
    "# Fit and transform the training data\n",
    "X_train = custom_tfidf.fit_transform(train_df['processed_content'])\n",
    "\n",
    "# Transform the testing data\n",
    "X_test = custom_tfidf.transform(test_df['processed_content'])\n",
    "\n",
    "print(\"Custom TF-IDF matrix shape:\")\n",
    "print(\"X_train:\", X_train.shape)\n",
    "print(\"X_test:\", X_test.shape)"
   ]
  },
  {
   "cell_type": "markdown",
   "id": "1e9380db-20ec-4b0f-bd93-5f89b28f5e17",
   "metadata": {
    "id": "1e9380db-20ec-4b0f-bd93-5f89b28f5e17"
   },
   "source": [
    "### Encode labels:"
   ]
  },
  {
   "cell_type": "code",
   "execution_count": 9,
   "id": "8ef3ef21-1d93-4e31-9203-d1244da94cdf",
   "metadata": {
    "colab": {
     "base_uri": "https://localhost:8080/"
    },
    "id": "8ef3ef21-1d93-4e31-9203-d1244da94cdf",
    "outputId": "6e7e163c-475a-4d0f-de55-eb3e4a8a5323"
   },
   "outputs": [
    {
     "name": "stdout",
     "output_type": "stream",
     "text": [
      "\n",
      "Label Encoding Mapping:\n",
      "{'business': 0, 'entertainment': 1, 'international': 2, 'science-technology': 3, 'sports': 4}\n"
     ]
    }
   ],
   "source": [
    "def encode_labels(labels):\n",
    "    \"\"\"\n",
    "    Encode string labels to integers.\n",
    "\n",
    "    Args:\n",
    "        labels (pd.Series): Series of string labels.\n",
    "\n",
    "    Returns:\n",
    "        np.array, dict: Encoded labels and a mapping dictionary.\n",
    "    \"\"\"\n",
    "    unique_labels = sorted(labels.unique())\n",
    "    label_to_int = {label: idx for idx, label in enumerate(unique_labels)}\n",
    "    int_to_label = {idx: label for label, idx in label_to_int.items()}\n",
    "    encoded_labels = labels.map(label_to_int).values\n",
    "    return encoded_labels, label_to_int, int_to_label\n",
    "\n",
    "# Encode labels for training and testing sets\n",
    "y_train, label_to_int, int_to_label = encode_labels(train_df['gold_label'])\n",
    "y_test = test_df['gold_label'].map(label_to_int).values\n",
    "\n",
    "print(\"\\nLabel Encoding Mapping:\")\n",
    "print(label_to_int)"
   ]
  },
  {
   "cell_type": "markdown",
   "id": "ba530b8c-145b-4232-bcb6-a130b1a198a3",
   "metadata": {
    "id": "ba530b8c-145b-4232-bcb6-a130b1a198a3"
   },
   "source": [
    "### Compute class weights:"
   ]
  },
  {
   "cell_type": "code",
   "execution_count": 10,
   "id": "ade9814d-ac7c-4a6a-83b7-98db4260dc03",
   "metadata": {
    "colab": {
     "base_uri": "https://localhost:8080/"
    },
    "id": "ade9814d-ac7c-4a6a-83b7-98db4260dc03",
    "outputId": "dbc4cdde-653b-461d-e5cc-57ec5ce0a63f"
   },
   "outputs": [
    {
     "name": "stdout",
     "output_type": "stream",
     "text": [
      "\n",
      "Class Weights: [1.01364413 0.9889211  1.0052669  1.01646765 0.97570023]\n"
     ]
    }
   ],
   "source": [
    "def compute_class_weights(y, num_classes):\n",
    "    \"\"\"\n",
    "    Compute class weights inversely proportional to class frequencies.\n",
    "\n",
    "    Args:\n",
    "        y (np.array): Array of encoded labels.\n",
    "        num_classes (int): Number of unique classes.\n",
    "\n",
    "    Returns:\n",
    "        np.array: Array of class weights.\n",
    "    \"\"\"\n",
    "    class_counts = np.bincount(y, minlength=num_classes)\n",
    "    class_weights = 1.0 / (class_counts + 1e-6)  # Adding a small value to avoid division by zero\n",
    "    normalized_weights = class_weights / class_weights.sum() * num_classes  # Normalize weights\n",
    "    return normalized_weights\n",
    "\n",
    "num_classes = len(label_to_int)\n",
    "class_weights = compute_class_weights(y_train, num_classes)\n",
    "print(\"\\nClass Weights:\", class_weights)"
   ]
  },
  {
   "cell_type": "markdown",
   "id": "ffea945b-6967-408d-a1e7-b55fd36edb00",
   "metadata": {
    "id": "ffea945b-6967-408d-a1e7-b55fd36edb00"
   },
   "source": [
    "#### Define a custom Pytorch dataset:"
   ]
  },
  {
   "cell_type": "code",
   "execution_count": 11,
   "id": "21d7241f-d9e4-415a-839b-fed7d45d7345",
   "metadata": {
    "id": "21d7241f-d9e4-415a-839b-fed7d45d7345"
   },
   "outputs": [],
   "source": [
    "class NewsDataset(Dataset):\n",
    "    def __init__(self, features, labels):\n",
    "        \"\"\"\n",
    "        Args:\n",
    "            features (np.array): TF-IDF feature matrix.\n",
    "            labels (np.array): Corresponding labels.\n",
    "        \"\"\"\n",
    "        self.X = torch.tensor(features, dtype=torch.float32)\n",
    "        self.y = torch.tensor(labels, dtype=torch.long)\n",
    "\n",
    "    def __len__(self):\n",
    "        return self.X.shape[0]\n",
    "\n",
    "    def __getitem__(self, idx):\n",
    "        return self.X[idx], self.y[idx]"
   ]
  },
  {
   "cell_type": "markdown",
   "id": "ce1a1085-cbea-42be-908d-9f8fe185d18a",
   "metadata": {
    "id": "ce1a1085-cbea-42be-908d-9f8fe185d18a"
   },
   "source": [
    "#### Create a Dataloader:"
   ]
  },
  {
   "cell_type": "code",
   "execution_count": 12,
   "id": "c98f1216-23d5-439b-8316-1362252459e1",
   "metadata": {
    "colab": {
     "base_uri": "https://localhost:8080/"
    },
    "id": "c98f1216-23d5-439b-8316-1362252459e1",
    "outputId": "d45df1ba-bba7-4b79-97a7-5830cf69f547"
   },
   "outputs": [
    {
     "name": "stdout",
     "output_type": "stream",
     "text": [
      "\n",
      "Number of training batches: 58\n",
      "Number of testing batches: 15\n"
     ]
    }
   ],
   "source": [
    "# Create Dataset instances\n",
    "train_dataset = NewsDataset(X_train, y_train)\n",
    "test_dataset = NewsDataset(X_test, y_test)\n",
    "\n",
    "# Define DataLoader parameters\n",
    "batch_size = 32\n",
    "\n",
    "# Create DataLoader instances\n",
    "train_loader = DataLoader(train_dataset, batch_size=batch_size, shuffle=True)\n",
    "test_loader = DataLoader(test_dataset, batch_size=batch_size, shuffle=False)\n",
    "\n",
    "print(f\"\\nNumber of training batches: {len(train_loader)}\")\n",
    "print(f\"Number of testing batches: {len(test_loader)}\")"
   ]
  },
  {
   "cell_type": "markdown",
   "id": "4a8fcaa9-d3ef-4387-9558-66b0a9d0f44c",
   "metadata": {
    "id": "4a8fcaa9-d3ef-4387-9558-66b0a9d0f44c"
   },
   "source": [
    "## SVM implementation:"
   ]
  },
  {
   "cell_type": "code",
   "execution_count": 13,
   "id": "d357a162-069b-4115-b484-92376d9d993a",
   "metadata": {
    "id": "d357a162-069b-4115-b484-92376d9d993a"
   },
   "outputs": [],
   "source": [
    "class SVM(nn.Module):\n",
    "    def __init__(self, input_size, num_classes, C=1.0):\n",
    "        super(SVM, self).__init__()\n",
    "        # Single linear layer for the SVM\n",
    "        self.fc = nn.Linear(input_size, num_classes)\n",
    "        # Regularization parameter\n",
    "        self.C = C\n",
    "\n",
    "    def forward(self, x):\n",
    "        # Linear output\n",
    "        return self.fc(x)\n"
   ]
  },
  {
   "cell_type": "markdown",
   "id": "bca54f25-b59c-43f6-a292-e65a77831798",
   "metadata": {
    "id": "bca54f25-b59c-43f6-a292-e65a77831798"
   },
   "source": [
    "#### Initialize the model:"
   ]
  },
  {
   "cell_type": "code",
   "execution_count": 14,
   "id": "c17fa65e-b08d-41b0-8f38-8a932a5dfaec",
   "metadata": {
    "colab": {
     "base_uri": "https://localhost:8080/"
    },
    "id": "c17fa65e-b08d-41b0-8f38-8a932a5dfaec",
    "outputId": "4f1daa02-aae2-482e-87b6-c20ecade0a01"
   },
   "outputs": [
    {
     "name": "stdout",
     "output_type": "stream",
     "text": [
      "\n",
      "SVM Architecture:\n",
      "SVM(\n",
      "  (fc): Linear(in_features=100329, out_features=5, bias=True)\n",
      ")\n"
     ]
    }
   ],
   "source": [
    "# Initialize the model\n",
    "input_size = X_train.shape[1]  # Number of TF-IDF features\n",
    "num_classes = 5\n",
    "C = 5.0\n",
    "\n",
    "model = SVM(input_size, num_classes, C)\n",
    "print(\"\\nSVM Architecture:\")\n",
    "print(model)"
   ]
  },
  {
   "cell_type": "markdown",
   "id": "6c8df44e-a32d-4b6a-9e67-a049ad023477",
   "metadata": {
    "id": "6c8df44e-a32d-4b6a-9e67-a049ad023477"
   },
   "source": [
    "### Train the model:"
   ]
  },
  {
   "cell_type": "markdown",
   "id": "0b1951e4-eece-4d1b-8f3b-704479e018f1",
   "metadata": {
    "id": "0b1951e4-eece-4d1b-8f3b-704479e018f1"
   },
   "source": [
    "#### Check if GPU available:"
   ]
  },
  {
   "cell_type": "code",
   "execution_count": 15,
   "id": "e838f04f-c3fa-44a9-a97c-865c2465388d",
   "metadata": {
    "colab": {
     "base_uri": "https://localhost:8080/"
    },
    "id": "e838f04f-c3fa-44a9-a97c-865c2465388d",
    "outputId": "dc399ec5-86a4-45cd-a742-7d0ffb3e2b9c"
   },
   "outputs": [
    {
     "name": "stdout",
     "output_type": "stream",
     "text": [
      "\n",
      "Using device: cpu\n"
     ]
    },
    {
     "data": {
      "text/plain": [
       "SVM(\n",
       "  (fc): Linear(in_features=100329, out_features=5, bias=True)\n",
       ")"
      ]
     },
     "execution_count": 15,
     "metadata": {},
     "output_type": "execute_result"
    }
   ],
   "source": [
    "device = torch.device('cuda' if torch.cuda.is_available() else 'cpu')\n",
    "print(f\"\\nUsing device: {device}\")\n",
    "\n",
    "# Move model to device\n",
    "model.to(device)"
   ]
  },
  {
   "cell_type": "markdown",
   "id": "48bfae0b-b3f9-4cf5-807c-ee946e94e76f",
   "metadata": {
    "id": "48bfae0b-b3f9-4cf5-807c-ee946e94e76f"
   },
   "source": [
    "#### Define loss function and optimizer:"
   ]
  },
  {
   "cell_type": "code",
   "execution_count": 16,
   "id": "98390c4c-e439-4856-8091-e83cbef4b8f4",
   "metadata": {
    "id": "98390c4c-e439-4856-8091-e83cbef4b8f4"
   },
   "outputs": [
    {
     "name": "stderr",
     "output_type": "stream",
     "text": [
      "C:\\Users\\habib\\AppData\\Roaming\\Python\\Python311\\site-packages\\torch\\optim\\lr_scheduler.py:28: UserWarning: The verbose parameter is deprecated. Please use get_last_lr() to access the learning rate.\n",
      "  warnings.warn(\"The verbose parameter is deprecated. Please use get_last_lr() \"\n"
     ]
    }
   ],
   "source": [
    "class HingeLoss(nn.Module):\n",
    "    def __init__(self, C=1.0, class_weights=None):\n",
    "        super(HingeLoss, self).__init__()\n",
    "        self.C = C\n",
    "        self.class_weights = class_weights\n",
    "\n",
    "    def forward(self, outputs, labels):\n",
    "        labels_one_hot = torch.nn.functional.one_hot(labels, num_classes=outputs.shape[1]).float()\n",
    "        margin = 1 - torch.sum(labels_one_hot * outputs, dim=1)\n",
    "        hinge_loss = torch.mean(torch.clamp(margin, min=0))\n",
    "\n",
    "        # Add regularization (weights and bias)\n",
    "        regularization = 0.5 * torch.sum(model.fc.weight ** 2) + 0.5 * torch.sum(model.fc.bias ** 2)\n",
    "\n",
    "        # Adjust for class weights if provided\n",
    "        if self.class_weights is not None:\n",
    "            weights = self.class_weights[labels]\n",
    "            hinge_loss = torch.mean(torch.clamp(margin, min=0) * weights)\n",
    "\n",
    "        return regularization + self.C * hinge_loss\n",
    "\n",
    "# Extract labels from the train loader\n",
    "y_train = np.array([label.item() for _, label in train_loader.dataset])\n",
    "\n",
    "# Ensure classes contain all unique labels in y_train\n",
    "unique_classes = np.unique(y_train)\n",
    "\n",
    "# Compute class weights\n",
    "class_weights = compute_class_weight(class_weight='balanced', classes=unique_classes, y=y_train)\n",
    "class_weights = np.sqrt(class_weights)  # Reduce impact by taking square root\n",
    "class_weights = torch.tensor(class_weights, dtype=torch.float).to(device)\n",
    "\n",
    "criterion = HingeLoss(C=C, class_weights=class_weights)\n",
    "\n",
    "# Define optimizer with weight decay for L2 regularization\n",
    "optimizer = optim.SGD(model.parameters(), lr=0.0001, momentum=0.95, weight_decay=0.001)\n",
    "\n",
    "# Define learning rate scheduler\n",
    "scheduler = torch.optim.lr_scheduler.ReduceLROnPlateau(\n",
    "    optimizer, mode='min', factor=0.5, patience=5, verbose=True\n",
    ")\n"
   ]
  },
  {
   "cell_type": "markdown",
   "id": "5b91fd3c-b5d1-4190-868a-372f4567326e",
   "metadata": {
    "id": "5b91fd3c-b5d1-4190-868a-372f4567326e"
   },
   "source": [
    "#### Training loop (with early stopping):"
   ]
  },
  {
   "cell_type": "code",
   "execution_count": 17,
   "id": "c484ab74-d102-4be6-b8ca-5537b49b1924",
   "metadata": {
    "colab": {
     "base_uri": "https://localhost:8080/"
    },
    "id": "c484ab74-d102-4be6-b8ca-5537b49b1924",
    "outputId": "bedf4ee8-f204-47e8-a9f2-63fca9df81f5"
   },
   "outputs": [
    {
     "name": "stdout",
     "output_type": "stream",
     "text": [
      "Epoch [1/1000] Train Loss: 5.6335, Train Acc: 0.1764 Val Loss: 5.3313, Val Acc: 0.2061\n",
      "Epoch [2/1000] Train Loss: 5.0310, Train Acc: 0.2000 Val Loss: 4.7332, Val Acc: 0.2149\n",
      "Epoch [3/1000] Train Loss: 4.4899, Train Acc: 0.2066 Val Loss: 4.2532, Val Acc: 0.1974\n",
      "EarlyStopping counter: 1 out of 200\n",
      "Epoch [4/1000] Train Loss: 4.0611, Train Acc: 0.2460 Val Loss: 3.8763, Val Acc: 0.1974\n",
      "EarlyStopping counter: 2 out of 200\n",
      "Epoch [5/1000] Train Loss: 3.7241, Train Acc: 0.2033 Val Loss: 3.5803, Val Acc: 0.1886\n",
      "EarlyStopping counter: 3 out of 200\n",
      "Epoch [6/1000] Train Loss: 3.4601, Train Acc: 0.2022 Val Loss: 3.3481, Val Acc: 0.1886\n",
      "EarlyStopping counter: 4 out of 200\n",
      "Epoch [7/1000] Train Loss: 3.2526, Train Acc: 0.2022 Val Loss: 3.1666, Val Acc: 0.1886\n",
      "EarlyStopping counter: 5 out of 200\n",
      "Epoch [8/1000] Train Loss: 3.0900, Train Acc: 0.2022 Val Loss: 3.0235, Val Acc: 0.1886\n",
      "EarlyStopping counter: 6 out of 200\n",
      "Epoch [9/1000] Train Loss: 2.9616, Train Acc: 0.2022 Val Loss: 2.9114, Val Acc: 0.1886\n",
      "EarlyStopping counter: 7 out of 200\n",
      "Epoch [10/1000] Train Loss: 2.8610, Train Acc: 0.2022 Val Loss: 2.8226, Val Acc: 0.1886\n",
      "EarlyStopping counter: 8 out of 200\n",
      "Epoch [11/1000] Train Loss: 2.7822, Train Acc: 0.2022 Val Loss: 2.7521, Val Acc: 0.1886\n",
      "EarlyStopping counter: 9 out of 200\n",
      "Epoch [12/1000] Train Loss: 2.7200, Train Acc: 0.2022 Val Loss: 2.6974, Val Acc: 0.1886\n",
      "EarlyStopping counter: 10 out of 200\n",
      "Epoch [13/1000] Train Loss: 2.6715, Train Acc: 0.2033 Val Loss: 2.6550, Val Acc: 0.2018\n",
      "EarlyStopping counter: 11 out of 200\n",
      "Epoch [14/1000] Train Loss: 2.6334, Train Acc: 0.2022 Val Loss: 2.6221, Val Acc: 0.1886\n",
      "EarlyStopping counter: 12 out of 200\n",
      "Epoch [15/1000] Train Loss: 2.6038, Train Acc: 0.2022 Val Loss: 2.5948, Val Acc: 0.1886\n",
      "EarlyStopping counter: 13 out of 200\n",
      "Epoch [16/1000] Train Loss: 2.5796, Train Acc: 0.2022 Val Loss: 2.5726, Val Acc: 0.1886\n",
      "EarlyStopping counter: 14 out of 200\n",
      "Epoch [17/1000] Train Loss: 2.5616, Train Acc: 0.2022 Val Loss: 2.5572, Val Acc: 0.1886\n",
      "EarlyStopping counter: 15 out of 200\n",
      "Epoch [18/1000] Train Loss: 2.5467, Train Acc: 0.2022 Val Loss: 2.5438, Val Acc: 0.1886\n",
      "EarlyStopping counter: 16 out of 200\n",
      "Epoch [19/1000] Train Loss: 2.5352, Train Acc: 0.2022 Val Loss: 2.5325, Val Acc: 0.1886\n",
      "EarlyStopping counter: 17 out of 200\n",
      "Epoch [20/1000] Train Loss: 2.5262, Train Acc: 0.2022 Val Loss: 2.5241, Val Acc: 0.1886\n",
      "EarlyStopping counter: 18 out of 200\n",
      "Epoch [21/1000] Train Loss: 2.5193, Train Acc: 0.2022 Val Loss: 2.5172, Val Acc: 0.1886\n",
      "EarlyStopping counter: 19 out of 200\n",
      "Epoch [22/1000] Train Loss: 2.5139, Train Acc: 0.2932 Val Loss: 2.5119, Val Acc: 0.2149\n",
      "EarlyStopping counter: 20 out of 200\n",
      "Epoch [23/1000] Train Loss: 2.5095, Train Acc: 0.2301 Val Loss: 2.5093, Val Acc: 0.1886\n",
      "EarlyStopping counter: 21 out of 200\n",
      "Epoch [24/1000] Train Loss: 2.5059, Train Acc: 0.2652 Val Loss: 2.5067, Val Acc: 0.3443\n",
      "Epoch [25/1000] Train Loss: 2.5031, Train Acc: 0.2214 Val Loss: 2.5055, Val Acc: 0.1842\n",
      "EarlyStopping counter: 1 out of 200\n",
      "Epoch [26/1000] Train Loss: 2.5012, Train Acc: 0.2049 Val Loss: 2.5044, Val Acc: 0.1842\n",
      "EarlyStopping counter: 2 out of 200\n",
      "Epoch [27/1000] Train Loss: 2.4994, Train Acc: 0.2049 Val Loss: 2.5040, Val Acc: 0.1842\n",
      "EarlyStopping counter: 3 out of 200\n",
      "Epoch [28/1000] Train Loss: 2.4991, Train Acc: 0.2049 Val Loss: 2.5033, Val Acc: 0.1842\n",
      "EarlyStopping counter: 4 out of 200\n",
      "Epoch [29/1000] Train Loss: 2.4976, Train Acc: 0.2049 Val Loss: 2.5029, Val Acc: 0.1842\n",
      "EarlyStopping counter: 5 out of 200\n",
      "Epoch [30/1000] Train Loss: 2.4965, Train Acc: 0.2049 Val Loss: 2.5020, Val Acc: 0.1842\n",
      "EarlyStopping counter: 6 out of 200\n",
      "Epoch [31/1000] Train Loss: 2.4958, Train Acc: 0.2049 Val Loss: 2.5005, Val Acc: 0.1842\n",
      "EarlyStopping counter: 7 out of 200\n",
      "Epoch [32/1000] Train Loss: 2.4952, Train Acc: 0.2049 Val Loss: 2.4990, Val Acc: 0.1842\n",
      "EarlyStopping counter: 8 out of 200\n",
      "Epoch [33/1000] Train Loss: 2.4948, Train Acc: 0.2049 Val Loss: 2.4988, Val Acc: 0.1842\n",
      "EarlyStopping counter: 9 out of 200\n",
      "Epoch [34/1000] Train Loss: 2.4947, Train Acc: 0.2049 Val Loss: 2.4987, Val Acc: 0.1842\n",
      "EarlyStopping counter: 10 out of 200\n",
      "Epoch [35/1000] Train Loss: 2.4946, Train Acc: 0.2049 Val Loss: 2.4986, Val Acc: 0.1842\n",
      "EarlyStopping counter: 11 out of 200\n",
      "Epoch [36/1000] Train Loss: 2.4946, Train Acc: 0.2049 Val Loss: 2.4982, Val Acc: 0.1842\n",
      "EarlyStopping counter: 12 out of 200\n",
      "Epoch [37/1000] Train Loss: 2.4947, Train Acc: 0.2433 Val Loss: 2.4978, Val Acc: 0.2368\n",
      "EarlyStopping counter: 13 out of 200\n",
      "Epoch [38/1000] Train Loss: 2.4943, Train Acc: 0.2729 Val Loss: 2.4969, Val Acc: 0.2325\n",
      "EarlyStopping counter: 14 out of 200\n",
      "Epoch [39/1000] Train Loss: 2.4939, Train Acc: 0.2153 Val Loss: 2.4969, Val Acc: 0.1864\n",
      "EarlyStopping counter: 15 out of 200\n",
      "Epoch [40/1000] Train Loss: 2.4940, Train Acc: 0.2948 Val Loss: 2.4976, Val Acc: 0.3377\n",
      "EarlyStopping counter: 16 out of 200\n",
      "Epoch [41/1000] Train Loss: 2.4939, Train Acc: 0.3205 Val Loss: 2.4970, Val Acc: 0.2675\n",
      "EarlyStopping counter: 17 out of 200\n",
      "Epoch [42/1000] Train Loss: 2.4938, Train Acc: 0.4471 Val Loss: 2.4968, Val Acc: 0.4057\n",
      "Epoch [43/1000] Train Loss: 2.4939, Train Acc: 0.2652 Val Loss: 2.4961, Val Acc: 0.2193\n",
      "EarlyStopping counter: 1 out of 200\n",
      "Epoch [44/1000] Train Loss: 2.4939, Train Acc: 0.2504 Val Loss: 2.4952, Val Acc: 0.2719\n",
      "EarlyStopping counter: 2 out of 200\n",
      "Epoch [45/1000] Train Loss: 2.4938, Train Acc: 0.2532 Val Loss: 2.4954, Val Acc: 0.1842\n",
      "EarlyStopping counter: 3 out of 200\n",
      "Epoch [46/1000] Train Loss: 2.4935, Train Acc: 0.3918 Val Loss: 2.4948, Val Acc: 0.3333\n",
      "EarlyStopping counter: 4 out of 200\n",
      "Epoch [47/1000] Train Loss: 2.4935, Train Acc: 0.3353 Val Loss: 2.4949, Val Acc: 0.2807\n",
      "EarlyStopping counter: 5 out of 200\n",
      "Epoch [48/1000] Train Loss: 2.4936, Train Acc: 0.3951 Val Loss: 2.4949, Val Acc: 0.4364\n",
      "Epoch [49/1000] Train Loss: 2.4934, Train Acc: 0.5775 Val Loss: 2.4942, Val Acc: 0.6425\n",
      "Epoch [50/1000] Train Loss: 2.4935, Train Acc: 0.3874 Val Loss: 2.4936, Val Acc: 0.3092\n",
      "EarlyStopping counter: 1 out of 200\n",
      "Epoch [51/1000] Train Loss: 2.4935, Train Acc: 0.3047 Val Loss: 2.4943, Val Acc: 0.2412\n",
      "EarlyStopping counter: 2 out of 200\n",
      "Epoch [52/1000] Train Loss: 2.4937, Train Acc: 0.3704 Val Loss: 2.4951, Val Acc: 0.4013\n",
      "EarlyStopping counter: 3 out of 200\n",
      "Epoch [53/1000] Train Loss: 2.4935, Train Acc: 0.3244 Val Loss: 2.4949, Val Acc: 0.4232\n",
      "EarlyStopping counter: 4 out of 200\n",
      "Epoch [54/1000] Train Loss: 2.4936, Train Acc: 0.5014 Val Loss: 2.4948, Val Acc: 0.4211\n",
      "EarlyStopping counter: 5 out of 200\n",
      "Epoch [55/1000] Train Loss: 2.4935, Train Acc: 0.3227 Val Loss: 2.4946, Val Acc: 0.2500\n",
      "EarlyStopping counter: 6 out of 200\n",
      "Epoch [56/1000] Train Loss: 2.4936, Train Acc: 0.2192 Val Loss: 2.4946, Val Acc: 0.1842\n",
      "EarlyStopping counter: 7 out of 200\n",
      "Epoch [57/1000] Train Loss: 2.4935, Train Acc: 0.2115 Val Loss: 2.4946, Val Acc: 0.2127\n",
      "EarlyStopping counter: 8 out of 200\n",
      "Epoch [58/1000] Train Loss: 2.4933, Train Acc: 0.3951 Val Loss: 2.4947, Val Acc: 0.3772\n",
      "EarlyStopping counter: 9 out of 200\n",
      "Epoch [59/1000] Train Loss: 2.4933, Train Acc: 0.2186 Val Loss: 2.4950, Val Acc: 0.1842\n",
      "EarlyStopping counter: 10 out of 200\n",
      "Epoch [60/1000] Train Loss: 2.4933, Train Acc: 0.2055 Val Loss: 2.4947, Val Acc: 0.1864\n",
      "EarlyStopping counter: 11 out of 200\n",
      "Epoch [61/1000] Train Loss: 2.4933, Train Acc: 0.3545 Val Loss: 2.4945, Val Acc: 0.2390\n",
      "EarlyStopping counter: 12 out of 200\n",
      "Epoch [62/1000] Train Loss: 2.4934, Train Acc: 0.3304 Val Loss: 2.4939, Val Acc: 0.2697\n",
      "EarlyStopping counter: 13 out of 200\n",
      "Epoch [63/1000] Train Loss: 2.4933, Train Acc: 0.3375 Val Loss: 2.4940, Val Acc: 0.3860\n",
      "EarlyStopping counter: 14 out of 200\n",
      "Epoch [64/1000] Train Loss: 2.4932, Train Acc: 0.5249 Val Loss: 2.4941, Val Acc: 0.6425\n",
      "EarlyStopping counter: 15 out of 200\n",
      "Epoch [65/1000] Train Loss: 2.4932, Train Acc: 0.3403 Val Loss: 2.4943, Val Acc: 0.1974\n",
      "EarlyStopping counter: 16 out of 200\n",
      "Epoch [66/1000] Train Loss: 2.4932, Train Acc: 0.3189 Val Loss: 2.4942, Val Acc: 0.3092\n",
      "EarlyStopping counter: 17 out of 200\n",
      "Epoch [67/1000] Train Loss: 2.4932, Train Acc: 0.2981 Val Loss: 2.4942, Val Acc: 0.2412\n",
      "EarlyStopping counter: 18 out of 200\n",
      "Epoch [68/1000] Train Loss: 2.4932, Train Acc: 0.2482 Val Loss: 2.4942, Val Acc: 0.1974\n",
      "EarlyStopping counter: 19 out of 200\n"
     ]
    },
    {
     "name": "stdout",
     "output_type": "stream",
     "text": [
      "Epoch [69/1000] Train Loss: 2.4931, Train Acc: 0.2230 Val Loss: 2.4943, Val Acc: 0.1996\n",
      "EarlyStopping counter: 20 out of 200\n",
      "Epoch [70/1000] Train Loss: 2.4931, Train Acc: 0.2405 Val Loss: 2.4943, Val Acc: 0.2061\n",
      "EarlyStopping counter: 21 out of 200\n",
      "Epoch [71/1000] Train Loss: 2.4932, Train Acc: 0.2395 Val Loss: 2.4944, Val Acc: 0.2171\n",
      "EarlyStopping counter: 22 out of 200\n",
      "Epoch [72/1000] Train Loss: 2.4931, Train Acc: 0.2214 Val Loss: 2.4945, Val Acc: 0.2105\n",
      "EarlyStopping counter: 23 out of 200\n",
      "Epoch [73/1000] Train Loss: 2.4931, Train Acc: 0.2438 Val Loss: 2.4943, Val Acc: 0.2390\n",
      "EarlyStopping counter: 24 out of 200\n",
      "Epoch [74/1000] Train Loss: 2.4931, Train Acc: 0.2789 Val Loss: 2.4944, Val Acc: 0.2566\n",
      "EarlyStopping counter: 25 out of 200\n",
      "Epoch [75/1000] Train Loss: 2.4931, Train Acc: 0.3359 Val Loss: 2.4944, Val Acc: 0.2654\n",
      "EarlyStopping counter: 26 out of 200\n",
      "Epoch [76/1000] Train Loss: 2.4931, Train Acc: 0.3036 Val Loss: 2.4944, Val Acc: 0.2412\n",
      "EarlyStopping counter: 27 out of 200\n",
      "Epoch [77/1000] Train Loss: 2.4931, Train Acc: 0.3085 Val Loss: 2.4943, Val Acc: 0.2412\n",
      "EarlyStopping counter: 28 out of 200\n",
      "Epoch [78/1000] Train Loss: 2.4931, Train Acc: 0.2323 Val Loss: 2.4944, Val Acc: 0.1996\n",
      "EarlyStopping counter: 29 out of 200\n",
      "Epoch [79/1000] Train Loss: 2.4931, Train Acc: 0.2767 Val Loss: 2.4943, Val Acc: 0.2346\n",
      "EarlyStopping counter: 30 out of 200\n",
      "Epoch [80/1000] Train Loss: 2.4931, Train Acc: 0.2384 Val Loss: 2.4944, Val Acc: 0.1996\n",
      "EarlyStopping counter: 31 out of 200\n",
      "Epoch [81/1000] Train Loss: 2.4931, Train Acc: 0.2208 Val Loss: 2.4944, Val Acc: 0.1952\n",
      "EarlyStopping counter: 32 out of 200\n",
      "Epoch [82/1000] Train Loss: 2.4931, Train Acc: 0.2285 Val Loss: 2.4944, Val Acc: 0.2061\n",
      "EarlyStopping counter: 33 out of 200\n",
      "Epoch [83/1000] Train Loss: 2.4931, Train Acc: 0.2427 Val Loss: 2.4943, Val Acc: 0.2105\n",
      "EarlyStopping counter: 34 out of 200\n",
      "Epoch [84/1000] Train Loss: 2.4931, Train Acc: 0.2444 Val Loss: 2.4943, Val Acc: 0.2237\n",
      "EarlyStopping counter: 35 out of 200\n",
      "Epoch [85/1000] Train Loss: 2.4931, Train Acc: 0.2685 Val Loss: 2.4943, Val Acc: 0.2544\n",
      "EarlyStopping counter: 36 out of 200\n",
      "Epoch [86/1000] Train Loss: 2.4931, Train Acc: 0.2844 Val Loss: 2.4943, Val Acc: 0.2610\n",
      "EarlyStopping counter: 37 out of 200\n",
      "Epoch [87/1000] Train Loss: 2.4931, Train Acc: 0.2800 Val Loss: 2.4943, Val Acc: 0.2544\n",
      "EarlyStopping counter: 38 out of 200\n",
      "Epoch [88/1000] Train Loss: 2.4931, Train Acc: 0.2959 Val Loss: 2.4943, Val Acc: 0.2566\n",
      "EarlyStopping counter: 39 out of 200\n",
      "Epoch [89/1000] Train Loss: 2.4931, Train Acc: 0.3162 Val Loss: 2.4943, Val Acc: 0.2697\n",
      "EarlyStopping counter: 40 out of 200\n",
      "Epoch [90/1000] Train Loss: 2.4931, Train Acc: 0.3200 Val Loss: 2.4943, Val Acc: 0.2697\n",
      "EarlyStopping counter: 41 out of 200\n",
      "Epoch [91/1000] Train Loss: 2.4931, Train Acc: 0.3238 Val Loss: 2.4943, Val Acc: 0.2697\n",
      "EarlyStopping counter: 42 out of 200\n",
      "Epoch [92/1000] Train Loss: 2.4931, Train Acc: 0.3019 Val Loss: 2.4943, Val Acc: 0.2478\n",
      "EarlyStopping counter: 43 out of 200\n",
      "Epoch [93/1000] Train Loss: 2.4931, Train Acc: 0.2937 Val Loss: 2.4943, Val Acc: 0.2478\n",
      "EarlyStopping counter: 44 out of 200\n",
      "Epoch [94/1000] Train Loss: 2.4931, Train Acc: 0.2986 Val Loss: 2.4943, Val Acc: 0.2522\n",
      "EarlyStopping counter: 45 out of 200\n",
      "Epoch [95/1000] Train Loss: 2.4931, Train Acc: 0.2992 Val Loss: 2.4943, Val Acc: 0.2544\n",
      "EarlyStopping counter: 46 out of 200\n",
      "Epoch [96/1000] Train Loss: 2.4931, Train Acc: 0.2877 Val Loss: 2.4943, Val Acc: 0.2478\n",
      "EarlyStopping counter: 47 out of 200\n",
      "Epoch [97/1000] Train Loss: 2.4931, Train Acc: 0.2860 Val Loss: 2.4943, Val Acc: 0.2478\n",
      "EarlyStopping counter: 48 out of 200\n",
      "Epoch [98/1000] Train Loss: 2.4931, Train Acc: 0.2904 Val Loss: 2.4943, Val Acc: 0.2522\n",
      "EarlyStopping counter: 49 out of 200\n",
      "Epoch [99/1000] Train Loss: 2.4931, Train Acc: 0.2948 Val Loss: 2.4943, Val Acc: 0.2544\n",
      "EarlyStopping counter: 50 out of 200\n",
      "Epoch [100/1000] Train Loss: 2.4931, Train Acc: 0.3036 Val Loss: 2.4943, Val Acc: 0.2588\n",
      "EarlyStopping counter: 51 out of 200\n",
      "Epoch [101/1000] Train Loss: 2.4931, Train Acc: 0.2992 Val Loss: 2.4943, Val Acc: 0.2566\n",
      "EarlyStopping counter: 52 out of 200\n",
      "Epoch [102/1000] Train Loss: 2.4931, Train Acc: 0.2959 Val Loss: 2.4943, Val Acc: 0.2588\n",
      "EarlyStopping counter: 53 out of 200\n",
      "Epoch [103/1000] Train Loss: 2.4931, Train Acc: 0.2981 Val Loss: 2.4943, Val Acc: 0.2654\n",
      "EarlyStopping counter: 54 out of 200\n",
      "Epoch [104/1000] Train Loss: 2.4931, Train Acc: 0.2986 Val Loss: 2.4943, Val Acc: 0.2632\n",
      "EarlyStopping counter: 55 out of 200\n",
      "Epoch [105/1000] Train Loss: 2.4931, Train Acc: 0.2942 Val Loss: 2.4943, Val Acc: 0.2566\n",
      "EarlyStopping counter: 56 out of 200\n",
      "Epoch [106/1000] Train Loss: 2.4931, Train Acc: 0.2948 Val Loss: 2.4943, Val Acc: 0.2588\n",
      "EarlyStopping counter: 57 out of 200\n",
      "Epoch [107/1000] Train Loss: 2.4931, Train Acc: 0.2948 Val Loss: 2.4943, Val Acc: 0.2566\n",
      "EarlyStopping counter: 58 out of 200\n",
      "Epoch [108/1000] Train Loss: 2.4931, Train Acc: 0.2937 Val Loss: 2.4943, Val Acc: 0.2566\n",
      "EarlyStopping counter: 59 out of 200\n",
      "Epoch [109/1000] Train Loss: 2.4931, Train Acc: 0.2942 Val Loss: 2.4943, Val Acc: 0.2566\n",
      "EarlyStopping counter: 60 out of 200\n",
      "Epoch [110/1000] Train Loss: 2.4931, Train Acc: 0.2942 Val Loss: 2.4943, Val Acc: 0.2566\n",
      "EarlyStopping counter: 61 out of 200\n",
      "Epoch [111/1000] Train Loss: 2.4931, Train Acc: 0.2942 Val Loss: 2.4943, Val Acc: 0.2566\n",
      "EarlyStopping counter: 62 out of 200\n",
      "Epoch [112/1000] Train Loss: 2.4931, Train Acc: 0.2948 Val Loss: 2.4943, Val Acc: 0.2566\n",
      "EarlyStopping counter: 63 out of 200\n",
      "Epoch [113/1000] Train Loss: 2.4931, Train Acc: 0.2953 Val Loss: 2.4943, Val Acc: 0.2588\n",
      "EarlyStopping counter: 64 out of 200\n",
      "Epoch [114/1000] Train Loss: 2.4931, Train Acc: 0.2975 Val Loss: 2.4943, Val Acc: 0.2588\n",
      "EarlyStopping counter: 65 out of 200\n",
      "Epoch [115/1000] Train Loss: 2.4931, Train Acc: 0.2981 Val Loss: 2.4943, Val Acc: 0.2588\n",
      "EarlyStopping counter: 66 out of 200\n",
      "Epoch [116/1000] Train Loss: 2.4931, Train Acc: 0.2970 Val Loss: 2.4943, Val Acc: 0.2588\n",
      "EarlyStopping counter: 67 out of 200\n",
      "Epoch [117/1000] Train Loss: 2.4931, Train Acc: 0.2986 Val Loss: 2.4943, Val Acc: 0.2588\n",
      "EarlyStopping counter: 68 out of 200\n",
      "Epoch [118/1000] Train Loss: 2.4931, Train Acc: 0.2992 Val Loss: 2.4943, Val Acc: 0.2588\n",
      "EarlyStopping counter: 69 out of 200\n",
      "Epoch [119/1000] Train Loss: 2.4931, Train Acc: 0.2986 Val Loss: 2.4943, Val Acc: 0.2588\n",
      "EarlyStopping counter: 70 out of 200\n",
      "Epoch [120/1000] Train Loss: 2.4931, Train Acc: 0.2986 Val Loss: 2.4943, Val Acc: 0.2588\n",
      "EarlyStopping counter: 71 out of 200\n",
      "Epoch [121/1000] Train Loss: 2.4931, Train Acc: 0.2981 Val Loss: 2.4943, Val Acc: 0.2588\n",
      "EarlyStopping counter: 72 out of 200\n",
      "Epoch [122/1000] Train Loss: 2.4931, Train Acc: 0.2992 Val Loss: 2.4943, Val Acc: 0.2588\n",
      "EarlyStopping counter: 73 out of 200\n",
      "Epoch [123/1000] Train Loss: 2.4931, Train Acc: 0.2981 Val Loss: 2.4943, Val Acc: 0.2588\n",
      "EarlyStopping counter: 74 out of 200\n",
      "Epoch [124/1000] Train Loss: 2.4931, Train Acc: 0.2992 Val Loss: 2.4943, Val Acc: 0.2588\n",
      "EarlyStopping counter: 75 out of 200\n",
      "Epoch [125/1000] Train Loss: 2.4931, Train Acc: 0.2992 Val Loss: 2.4943, Val Acc: 0.2588\n",
      "EarlyStopping counter: 76 out of 200\n",
      "Epoch [126/1000] Train Loss: 2.4931, Train Acc: 0.2992 Val Loss: 2.4943, Val Acc: 0.2588\n",
      "EarlyStopping counter: 77 out of 200\n",
      "Epoch [127/1000] Train Loss: 2.4931, Train Acc: 0.2992 Val Loss: 2.4943, Val Acc: 0.2588\n",
      "EarlyStopping counter: 78 out of 200\n",
      "Epoch [128/1000] Train Loss: 2.4931, Train Acc: 0.2992 Val Loss: 2.4943, Val Acc: 0.2588\n",
      "EarlyStopping counter: 79 out of 200\n",
      "Epoch [129/1000] Train Loss: 2.4931, Train Acc: 0.2992 Val Loss: 2.4943, Val Acc: 0.2588\n",
      "EarlyStopping counter: 80 out of 200\n",
      "Epoch [130/1000] Train Loss: 2.4931, Train Acc: 0.2992 Val Loss: 2.4943, Val Acc: 0.2588\n",
      "EarlyStopping counter: 81 out of 200\n",
      "Epoch [131/1000] Train Loss: 2.4931, Train Acc: 0.2992 Val Loss: 2.4943, Val Acc: 0.2588\n",
      "EarlyStopping counter: 82 out of 200\n",
      "Epoch [132/1000] Train Loss: 2.4931, Train Acc: 0.2992 Val Loss: 2.4943, Val Acc: 0.2588\n",
      "EarlyStopping counter: 83 out of 200\n",
      "Epoch [133/1000] Train Loss: 2.4931, Train Acc: 0.2992 Val Loss: 2.4943, Val Acc: 0.2588\n",
      "EarlyStopping counter: 84 out of 200\n",
      "Epoch [134/1000] Train Loss: 2.4931, Train Acc: 0.2992 Val Loss: 2.4943, Val Acc: 0.2588\n",
      "EarlyStopping counter: 85 out of 200\n"
     ]
    },
    {
     "name": "stdout",
     "output_type": "stream",
     "text": [
      "Epoch [135/1000] Train Loss: 2.4931, Train Acc: 0.2992 Val Loss: 2.4943, Val Acc: 0.2588\n",
      "EarlyStopping counter: 86 out of 200\n",
      "Epoch [136/1000] Train Loss: 2.4931, Train Acc: 0.2992 Val Loss: 2.4943, Val Acc: 0.2588\n",
      "EarlyStopping counter: 87 out of 200\n",
      "Epoch [137/1000] Train Loss: 2.4931, Train Acc: 0.2992 Val Loss: 2.4943, Val Acc: 0.2588\n",
      "EarlyStopping counter: 88 out of 200\n",
      "Epoch [138/1000] Train Loss: 2.4931, Train Acc: 0.2992 Val Loss: 2.4943, Val Acc: 0.2588\n",
      "EarlyStopping counter: 89 out of 200\n",
      "Epoch [139/1000] Train Loss: 2.4931, Train Acc: 0.2992 Val Loss: 2.4943, Val Acc: 0.2588\n",
      "EarlyStopping counter: 90 out of 200\n",
      "Epoch [140/1000] Train Loss: 2.4931, Train Acc: 0.2992 Val Loss: 2.4943, Val Acc: 0.2588\n",
      "EarlyStopping counter: 91 out of 200\n",
      "Epoch [141/1000] Train Loss: 2.4931, Train Acc: 0.2992 Val Loss: 2.4943, Val Acc: 0.2588\n",
      "EarlyStopping counter: 92 out of 200\n",
      "Epoch [142/1000] Train Loss: 2.4931, Train Acc: 0.2992 Val Loss: 2.4943, Val Acc: 0.2588\n",
      "EarlyStopping counter: 93 out of 200\n",
      "Epoch [143/1000] Train Loss: 2.4931, Train Acc: 0.2992 Val Loss: 2.4943, Val Acc: 0.2588\n",
      "EarlyStopping counter: 94 out of 200\n",
      "Epoch [144/1000] Train Loss: 2.4931, Train Acc: 0.2992 Val Loss: 2.4943, Val Acc: 0.2588\n",
      "EarlyStopping counter: 95 out of 200\n",
      "Epoch [145/1000] Train Loss: 2.4931, Train Acc: 0.2992 Val Loss: 2.4943, Val Acc: 0.2588\n",
      "EarlyStopping counter: 96 out of 200\n",
      "Epoch [146/1000] Train Loss: 2.4931, Train Acc: 0.2992 Val Loss: 2.4943, Val Acc: 0.2588\n",
      "EarlyStopping counter: 97 out of 200\n",
      "Epoch [147/1000] Train Loss: 2.4931, Train Acc: 0.2992 Val Loss: 2.4943, Val Acc: 0.2588\n",
      "EarlyStopping counter: 98 out of 200\n",
      "Epoch [148/1000] Train Loss: 2.4931, Train Acc: 0.2992 Val Loss: 2.4943, Val Acc: 0.2588\n",
      "EarlyStopping counter: 99 out of 200\n",
      "Epoch [149/1000] Train Loss: 2.4931, Train Acc: 0.2992 Val Loss: 2.4943, Val Acc: 0.2588\n",
      "EarlyStopping counter: 100 out of 200\n",
      "Epoch [150/1000] Train Loss: 2.4931, Train Acc: 0.2992 Val Loss: 2.4943, Val Acc: 0.2588\n",
      "EarlyStopping counter: 101 out of 200\n",
      "Epoch [151/1000] Train Loss: 2.4931, Train Acc: 0.2992 Val Loss: 2.4943, Val Acc: 0.2588\n",
      "EarlyStopping counter: 102 out of 200\n",
      "Epoch [152/1000] Train Loss: 2.4931, Train Acc: 0.2992 Val Loss: 2.4943, Val Acc: 0.2588\n",
      "EarlyStopping counter: 103 out of 200\n",
      "Epoch [153/1000] Train Loss: 2.4931, Train Acc: 0.2992 Val Loss: 2.4943, Val Acc: 0.2588\n",
      "EarlyStopping counter: 104 out of 200\n",
      "Epoch [154/1000] Train Loss: 2.4931, Train Acc: 0.2992 Val Loss: 2.4943, Val Acc: 0.2588\n",
      "EarlyStopping counter: 105 out of 200\n",
      "Epoch [155/1000] Train Loss: 2.4931, Train Acc: 0.2992 Val Loss: 2.4943, Val Acc: 0.2588\n",
      "EarlyStopping counter: 106 out of 200\n",
      "Epoch [156/1000] Train Loss: 2.4931, Train Acc: 0.2992 Val Loss: 2.4943, Val Acc: 0.2588\n",
      "EarlyStopping counter: 107 out of 200\n",
      "Epoch [157/1000] Train Loss: 2.4931, Train Acc: 0.2992 Val Loss: 2.4943, Val Acc: 0.2588\n",
      "EarlyStopping counter: 108 out of 200\n",
      "Epoch [158/1000] Train Loss: 2.4931, Train Acc: 0.2992 Val Loss: 2.4943, Val Acc: 0.2588\n",
      "EarlyStopping counter: 109 out of 200\n",
      "Epoch [159/1000] Train Loss: 2.4931, Train Acc: 0.2992 Val Loss: 2.4943, Val Acc: 0.2588\n",
      "EarlyStopping counter: 110 out of 200\n",
      "Epoch [160/1000] Train Loss: 2.4931, Train Acc: 0.2992 Val Loss: 2.4943, Val Acc: 0.2588\n",
      "EarlyStopping counter: 111 out of 200\n",
      "Epoch [161/1000] Train Loss: 2.4931, Train Acc: 0.2992 Val Loss: 2.4943, Val Acc: 0.2588\n",
      "EarlyStopping counter: 112 out of 200\n",
      "Epoch [162/1000] Train Loss: 2.4931, Train Acc: 0.2992 Val Loss: 2.4943, Val Acc: 0.2588\n",
      "EarlyStopping counter: 113 out of 200\n",
      "Epoch [163/1000] Train Loss: 2.4931, Train Acc: 0.2992 Val Loss: 2.4943, Val Acc: 0.2588\n",
      "EarlyStopping counter: 114 out of 200\n",
      "Epoch [164/1000] Train Loss: 2.4931, Train Acc: 0.2992 Val Loss: 2.4943, Val Acc: 0.2588\n",
      "EarlyStopping counter: 115 out of 200\n",
      "Epoch [165/1000] Train Loss: 2.4931, Train Acc: 0.2992 Val Loss: 2.4943, Val Acc: 0.2588\n",
      "EarlyStopping counter: 116 out of 200\n",
      "Epoch [166/1000] Train Loss: 2.4931, Train Acc: 0.2992 Val Loss: 2.4943, Val Acc: 0.2588\n",
      "EarlyStopping counter: 117 out of 200\n",
      "Epoch [167/1000] Train Loss: 2.4931, Train Acc: 0.2992 Val Loss: 2.4943, Val Acc: 0.2588\n",
      "EarlyStopping counter: 118 out of 200\n",
      "Epoch [168/1000] Train Loss: 2.4931, Train Acc: 0.2992 Val Loss: 2.4943, Val Acc: 0.2588\n",
      "EarlyStopping counter: 119 out of 200\n",
      "Epoch [169/1000] Train Loss: 2.4931, Train Acc: 0.2992 Val Loss: 2.4943, Val Acc: 0.2588\n",
      "EarlyStopping counter: 120 out of 200\n",
      "Epoch [170/1000] Train Loss: 2.4931, Train Acc: 0.2970 Val Loss: 2.4943, Val Acc: 0.2588\n",
      "EarlyStopping counter: 121 out of 200\n",
      "Epoch [171/1000] Train Loss: 2.4931, Train Acc: 0.2975 Val Loss: 2.4943, Val Acc: 0.2588\n",
      "EarlyStopping counter: 122 out of 200\n",
      "Epoch [172/1000] Train Loss: 2.4931, Train Acc: 0.2975 Val Loss: 2.4943, Val Acc: 0.2588\n",
      "EarlyStopping counter: 123 out of 200\n",
      "Epoch [173/1000] Train Loss: 2.4931, Train Acc: 0.2975 Val Loss: 2.4943, Val Acc: 0.2588\n",
      "EarlyStopping counter: 124 out of 200\n",
      "Epoch [174/1000] Train Loss: 2.4931, Train Acc: 0.2964 Val Loss: 2.4943, Val Acc: 0.2588\n",
      "EarlyStopping counter: 125 out of 200\n",
      "Epoch [175/1000] Train Loss: 2.4931, Train Acc: 0.2964 Val Loss: 2.4943, Val Acc: 0.2588\n",
      "EarlyStopping counter: 126 out of 200\n",
      "Epoch [176/1000] Train Loss: 2.4931, Train Acc: 0.2964 Val Loss: 2.4943, Val Acc: 0.2588\n",
      "EarlyStopping counter: 127 out of 200\n",
      "Epoch [177/1000] Train Loss: 2.4931, Train Acc: 0.2970 Val Loss: 2.4943, Val Acc: 0.2588\n",
      "EarlyStopping counter: 128 out of 200\n",
      "Epoch [178/1000] Train Loss: 2.4931, Train Acc: 0.2970 Val Loss: 2.4943, Val Acc: 0.2588\n",
      "EarlyStopping counter: 129 out of 200\n",
      "Epoch [179/1000] Train Loss: 2.4931, Train Acc: 0.2970 Val Loss: 2.4943, Val Acc: 0.2588\n",
      "EarlyStopping counter: 130 out of 200\n",
      "Epoch [180/1000] Train Loss: 2.4931, Train Acc: 0.2970 Val Loss: 2.4943, Val Acc: 0.2588\n",
      "EarlyStopping counter: 131 out of 200\n",
      "Epoch [181/1000] Train Loss: 2.4931, Train Acc: 0.2970 Val Loss: 2.4943, Val Acc: 0.2588\n",
      "EarlyStopping counter: 132 out of 200\n",
      "Epoch [182/1000] Train Loss: 2.4931, Train Acc: 0.2970 Val Loss: 2.4943, Val Acc: 0.2588\n",
      "EarlyStopping counter: 133 out of 200\n",
      "Epoch [183/1000] Train Loss: 2.4931, Train Acc: 0.2970 Val Loss: 2.4943, Val Acc: 0.2588\n",
      "EarlyStopping counter: 134 out of 200\n",
      "Epoch [184/1000] Train Loss: 2.4931, Train Acc: 0.2970 Val Loss: 2.4943, Val Acc: 0.2588\n",
      "EarlyStopping counter: 135 out of 200\n",
      "Epoch [185/1000] Train Loss: 2.4931, Train Acc: 0.2970 Val Loss: 2.4943, Val Acc: 0.2588\n",
      "EarlyStopping counter: 136 out of 200\n",
      "Epoch [186/1000] Train Loss: 2.4931, Train Acc: 0.2970 Val Loss: 2.4943, Val Acc: 0.2588\n",
      "EarlyStopping counter: 137 out of 200\n",
      "Epoch [187/1000] Train Loss: 2.4931, Train Acc: 0.2964 Val Loss: 2.4943, Val Acc: 0.2588\n",
      "EarlyStopping counter: 138 out of 200\n",
      "Epoch [188/1000] Train Loss: 2.4931, Train Acc: 0.2964 Val Loss: 2.4943, Val Acc: 0.2588\n",
      "EarlyStopping counter: 139 out of 200\n",
      "Epoch [189/1000] Train Loss: 2.4931, Train Acc: 0.2964 Val Loss: 2.4943, Val Acc: 0.2588\n",
      "EarlyStopping counter: 140 out of 200\n",
      "Epoch [190/1000] Train Loss: 2.4931, Train Acc: 0.2964 Val Loss: 2.4943, Val Acc: 0.2588\n",
      "EarlyStopping counter: 141 out of 200\n",
      "Epoch [191/1000] Train Loss: 2.4931, Train Acc: 0.2964 Val Loss: 2.4943, Val Acc: 0.2588\n",
      "EarlyStopping counter: 142 out of 200\n",
      "Epoch [192/1000] Train Loss: 2.4931, Train Acc: 0.2964 Val Loss: 2.4943, Val Acc: 0.2588\n",
      "EarlyStopping counter: 143 out of 200\n",
      "Epoch [193/1000] Train Loss: 2.4931, Train Acc: 0.2964 Val Loss: 2.4943, Val Acc: 0.2588\n",
      "EarlyStopping counter: 144 out of 200\n",
      "Epoch [194/1000] Train Loss: 2.4931, Train Acc: 0.2964 Val Loss: 2.4943, Val Acc: 0.2588\n",
      "EarlyStopping counter: 145 out of 200\n",
      "Epoch [195/1000] Train Loss: 2.4931, Train Acc: 0.2964 Val Loss: 2.4943, Val Acc: 0.2588\n",
      "EarlyStopping counter: 146 out of 200\n",
      "Epoch [196/1000] Train Loss: 2.4931, Train Acc: 0.2964 Val Loss: 2.4943, Val Acc: 0.2588\n",
      "EarlyStopping counter: 147 out of 200\n",
      "Epoch [197/1000] Train Loss: 2.4931, Train Acc: 0.2964 Val Loss: 2.4943, Val Acc: 0.2588\n",
      "EarlyStopping counter: 148 out of 200\n",
      "Epoch [198/1000] Train Loss: 2.4931, Train Acc: 0.2964 Val Loss: 2.4943, Val Acc: 0.2588\n",
      "EarlyStopping counter: 149 out of 200\n",
      "Epoch [199/1000] Train Loss: 2.4931, Train Acc: 0.2964 Val Loss: 2.4943, Val Acc: 0.2588\n",
      "EarlyStopping counter: 150 out of 200\n"
     ]
    },
    {
     "name": "stdout",
     "output_type": "stream",
     "text": [
      "Epoch [200/1000] Train Loss: 2.4931, Train Acc: 0.2964 Val Loss: 2.4943, Val Acc: 0.2588\n",
      "EarlyStopping counter: 151 out of 200\n",
      "Epoch [201/1000] Train Loss: 2.4931, Train Acc: 0.2964 Val Loss: 2.4943, Val Acc: 0.2588\n",
      "EarlyStopping counter: 152 out of 200\n",
      "Epoch [202/1000] Train Loss: 2.4931, Train Acc: 0.2964 Val Loss: 2.4943, Val Acc: 0.2588\n",
      "EarlyStopping counter: 153 out of 200\n",
      "Epoch [203/1000] Train Loss: 2.4931, Train Acc: 0.2964 Val Loss: 2.4943, Val Acc: 0.2588\n",
      "EarlyStopping counter: 154 out of 200\n",
      "Epoch [204/1000] Train Loss: 2.4931, Train Acc: 0.2964 Val Loss: 2.4943, Val Acc: 0.2588\n",
      "EarlyStopping counter: 155 out of 200\n",
      "Epoch [205/1000] Train Loss: 2.4931, Train Acc: 0.2964 Val Loss: 2.4943, Val Acc: 0.2588\n",
      "EarlyStopping counter: 156 out of 200\n",
      "Epoch [206/1000] Train Loss: 2.4931, Train Acc: 0.2964 Val Loss: 2.4943, Val Acc: 0.2588\n",
      "EarlyStopping counter: 157 out of 200\n",
      "Epoch [207/1000] Train Loss: 2.4931, Train Acc: 0.2964 Val Loss: 2.4943, Val Acc: 0.2588\n",
      "EarlyStopping counter: 158 out of 200\n",
      "Epoch [208/1000] Train Loss: 2.4931, Train Acc: 0.2964 Val Loss: 2.4943, Val Acc: 0.2588\n",
      "EarlyStopping counter: 159 out of 200\n",
      "Epoch [209/1000] Train Loss: 2.4931, Train Acc: 0.2964 Val Loss: 2.4943, Val Acc: 0.2588\n",
      "EarlyStopping counter: 160 out of 200\n",
      "Epoch [210/1000] Train Loss: 2.4931, Train Acc: 0.2964 Val Loss: 2.4943, Val Acc: 0.2588\n",
      "EarlyStopping counter: 161 out of 200\n",
      "Epoch [211/1000] Train Loss: 2.4931, Train Acc: 0.2964 Val Loss: 2.4943, Val Acc: 0.2588\n",
      "EarlyStopping counter: 162 out of 200\n",
      "Epoch [212/1000] Train Loss: 2.4931, Train Acc: 0.2964 Val Loss: 2.4943, Val Acc: 0.2588\n",
      "EarlyStopping counter: 163 out of 200\n",
      "Epoch [213/1000] Train Loss: 2.4931, Train Acc: 0.2964 Val Loss: 2.4943, Val Acc: 0.2588\n",
      "EarlyStopping counter: 164 out of 200\n",
      "Epoch [214/1000] Train Loss: 2.4931, Train Acc: 0.2964 Val Loss: 2.4943, Val Acc: 0.2588\n",
      "EarlyStopping counter: 165 out of 200\n",
      "Epoch [215/1000] Train Loss: 2.4931, Train Acc: 0.2964 Val Loss: 2.4943, Val Acc: 0.2588\n",
      "EarlyStopping counter: 166 out of 200\n",
      "Epoch [216/1000] Train Loss: 2.4931, Train Acc: 0.2964 Val Loss: 2.4943, Val Acc: 0.2588\n",
      "EarlyStopping counter: 167 out of 200\n",
      "Epoch [217/1000] Train Loss: 2.4931, Train Acc: 0.2964 Val Loss: 2.4943, Val Acc: 0.2588\n",
      "EarlyStopping counter: 168 out of 200\n",
      "Epoch [218/1000] Train Loss: 2.4931, Train Acc: 0.2964 Val Loss: 2.4943, Val Acc: 0.2588\n",
      "EarlyStopping counter: 169 out of 200\n",
      "Epoch [219/1000] Train Loss: 2.4931, Train Acc: 0.2964 Val Loss: 2.4943, Val Acc: 0.2588\n",
      "EarlyStopping counter: 170 out of 200\n",
      "Epoch [220/1000] Train Loss: 2.4931, Train Acc: 0.2964 Val Loss: 2.4943, Val Acc: 0.2588\n",
      "EarlyStopping counter: 171 out of 200\n",
      "Epoch [221/1000] Train Loss: 2.4931, Train Acc: 0.2964 Val Loss: 2.4943, Val Acc: 0.2588\n",
      "EarlyStopping counter: 172 out of 200\n",
      "Epoch [222/1000] Train Loss: 2.4931, Train Acc: 0.2964 Val Loss: 2.4943, Val Acc: 0.2588\n",
      "EarlyStopping counter: 173 out of 200\n",
      "Epoch [223/1000] Train Loss: 2.4931, Train Acc: 0.2964 Val Loss: 2.4943, Val Acc: 0.2588\n",
      "EarlyStopping counter: 174 out of 200\n",
      "Epoch [224/1000] Train Loss: 2.4931, Train Acc: 0.2964 Val Loss: 2.4943, Val Acc: 0.2588\n",
      "EarlyStopping counter: 175 out of 200\n",
      "Epoch [225/1000] Train Loss: 2.4931, Train Acc: 0.2959 Val Loss: 2.4943, Val Acc: 0.2588\n",
      "EarlyStopping counter: 176 out of 200\n",
      "Epoch [226/1000] Train Loss: 2.4931, Train Acc: 0.2959 Val Loss: 2.4943, Val Acc: 0.2588\n",
      "EarlyStopping counter: 177 out of 200\n",
      "Epoch [227/1000] Train Loss: 2.4931, Train Acc: 0.2959 Val Loss: 2.4943, Val Acc: 0.2588\n",
      "EarlyStopping counter: 178 out of 200\n",
      "Epoch [228/1000] Train Loss: 2.4931, Train Acc: 0.2959 Val Loss: 2.4943, Val Acc: 0.2588\n",
      "EarlyStopping counter: 179 out of 200\n",
      "Epoch [229/1000] Train Loss: 2.4931, Train Acc: 0.2959 Val Loss: 2.4943, Val Acc: 0.2588\n",
      "EarlyStopping counter: 180 out of 200\n",
      "Epoch [230/1000] Train Loss: 2.4931, Train Acc: 0.2959 Val Loss: 2.4943, Val Acc: 0.2588\n",
      "EarlyStopping counter: 181 out of 200\n",
      "Epoch [231/1000] Train Loss: 2.4931, Train Acc: 0.2959 Val Loss: 2.4943, Val Acc: 0.2588\n",
      "EarlyStopping counter: 182 out of 200\n",
      "Epoch [232/1000] Train Loss: 2.4931, Train Acc: 0.2959 Val Loss: 2.4943, Val Acc: 0.2588\n",
      "EarlyStopping counter: 183 out of 200\n",
      "Epoch [233/1000] Train Loss: 2.4931, Train Acc: 0.2959 Val Loss: 2.4943, Val Acc: 0.2588\n",
      "EarlyStopping counter: 184 out of 200\n",
      "Epoch [234/1000] Train Loss: 2.4931, Train Acc: 0.2959 Val Loss: 2.4943, Val Acc: 0.2588\n",
      "EarlyStopping counter: 185 out of 200\n",
      "Epoch [235/1000] Train Loss: 2.4931, Train Acc: 0.2959 Val Loss: 2.4943, Val Acc: 0.2588\n",
      "EarlyStopping counter: 186 out of 200\n",
      "Epoch [236/1000] Train Loss: 2.4931, Train Acc: 0.2959 Val Loss: 2.4943, Val Acc: 0.2588\n",
      "EarlyStopping counter: 187 out of 200\n",
      "Epoch [237/1000] Train Loss: 2.4931, Train Acc: 0.2959 Val Loss: 2.4943, Val Acc: 0.2588\n",
      "EarlyStopping counter: 188 out of 200\n",
      "Epoch [238/1000] Train Loss: 2.4931, Train Acc: 0.2959 Val Loss: 2.4943, Val Acc: 0.2588\n",
      "EarlyStopping counter: 189 out of 200\n",
      "Epoch [239/1000] Train Loss: 2.4931, Train Acc: 0.2964 Val Loss: 2.4943, Val Acc: 0.2588\n",
      "EarlyStopping counter: 190 out of 200\n",
      "Epoch [240/1000] Train Loss: 2.4931, Train Acc: 0.2959 Val Loss: 2.4943, Val Acc: 0.2588\n",
      "EarlyStopping counter: 191 out of 200\n",
      "Epoch [241/1000] Train Loss: 2.4931, Train Acc: 0.2959 Val Loss: 2.4943, Val Acc: 0.2588\n",
      "EarlyStopping counter: 192 out of 200\n",
      "Epoch [242/1000] Train Loss: 2.4931, Train Acc: 0.2959 Val Loss: 2.4943, Val Acc: 0.2588\n",
      "EarlyStopping counter: 193 out of 200\n",
      "Epoch [243/1000] Train Loss: 2.4931, Train Acc: 0.2959 Val Loss: 2.4943, Val Acc: 0.2588\n",
      "EarlyStopping counter: 194 out of 200\n",
      "Epoch [244/1000] Train Loss: 2.4931, Train Acc: 0.2959 Val Loss: 2.4943, Val Acc: 0.2588\n",
      "EarlyStopping counter: 195 out of 200\n",
      "Epoch [245/1000] Train Loss: 2.4931, Train Acc: 0.2959 Val Loss: 2.4943, Val Acc: 0.2588\n",
      "EarlyStopping counter: 196 out of 200\n",
      "Epoch [246/1000] Train Loss: 2.4931, Train Acc: 0.2959 Val Loss: 2.4943, Val Acc: 0.2588\n",
      "EarlyStopping counter: 197 out of 200\n",
      "Epoch [247/1000] Train Loss: 2.4931, Train Acc: 0.2959 Val Loss: 2.4943, Val Acc: 0.2588\n",
      "EarlyStopping counter: 198 out of 200\n",
      "Epoch [248/1000] Train Loss: 2.4931, Train Acc: 0.2959 Val Loss: 2.4943, Val Acc: 0.2588\n",
      "EarlyStopping counter: 199 out of 200\n",
      "Epoch [249/1000] Train Loss: 2.4931, Train Acc: 0.2959 Val Loss: 2.4943, Val Acc: 0.2588\n",
      "EarlyStopping counter: 200 out of 200\n",
      "Early stopping!\n"
     ]
    },
    {
     "data": {
      "text/plain": [
       "<All keys matched successfully>"
      ]
     },
     "execution_count": 17,
     "metadata": {},
     "output_type": "execute_result"
    }
   ],
   "source": [
    "# Training Parameters\n",
    "num_epochs = 1000\n",
    "balanced_epochs = 500  # Number of epochs with balanced class weights\n",
    "unbalanced_epochs = num_epochs - balanced_epochs  # Remaining epochs for unbalanced training\n",
    "\n",
    "# Metrics storage\n",
    "train_losses, train_accuracies = [], []\n",
    "val_losses = []\n",
    "val_accuracies = []\n",
    "\n",
    "# Early Stopping Parameters\n",
    "best_val_acc = 0.0\n",
    "best_model_wts = copy.deepcopy(model.state_dict())\n",
    "patience = 200\n",
    "trigger_times = 0\n",
    "\n",
    "# Start Training Loop\n",
    "for epoch in range(num_epochs):\n",
    "    model.train()\n",
    "    running_loss, correct_predictions, total_predictions = 0.0, 0, 0\n",
    "\n",
    "    # Set Criterion Based on Epoch\n",
    "    if epoch < balanced_epochs:\n",
    "        criterion = HingeLoss(C=C, class_weights=class_weights)  # Balanced weights\n",
    "    else:\n",
    "        criterion = HingeLoss(C=C, class_weights=None)  # Uniform weights\n",
    "\n",
    "    for inputs, labels in train_loader:\n",
    "        inputs, labels = inputs.to(device), labels.to(device)\n",
    "        optimizer.zero_grad()\n",
    "\n",
    "        # Forward pass\n",
    "        outputs = model(inputs)\n",
    "        loss = criterion(outputs, labels)\n",
    "        loss.backward()\n",
    "        optimizer.step()\n",
    "\n",
    "        running_loss += loss.item() * inputs.size(0)\n",
    "        _, predicted = torch.max(outputs, 1)\n",
    "        correct_predictions += (predicted == labels).sum().item()\n",
    "        total_predictions += labels.size(0)\n",
    "\n",
    "    epoch_loss = running_loss / total_predictions\n",
    "    epoch_acc = correct_predictions / total_predictions\n",
    "    train_losses.append(epoch_loss)\n",
    "    train_accuracies.append(epoch_acc)\n",
    "\n",
    "    # Validation\n",
    "    model.eval()\n",
    "    val_running_loss, val_correct_predictions, val_total_predictions = 0.0, 0, 0\n",
    "\n",
    "    with torch.no_grad():\n",
    "        for inputs, labels in test_loader:\n",
    "            inputs, labels = inputs.to(device), labels.to(device)\n",
    "\n",
    "            outputs = model(inputs)\n",
    "            loss = criterion(outputs, labels)\n",
    "\n",
    "            val_running_loss += loss.item() * inputs.size(0)\n",
    "            _, predicted = torch.max(outputs, 1)\n",
    "            val_correct_predictions += (predicted == labels).sum().item()\n",
    "            val_total_predictions += labels.size(0)\n",
    "\n",
    "    val_epoch_loss = val_running_loss / val_total_predictions\n",
    "    val_epoch_acc = val_correct_predictions / val_total_predictions\n",
    "    val_losses.append(val_epoch_loss)\n",
    "    val_accuracies.append(val_epoch_acc)\n",
    "\n",
    "    scheduler.step(val_epoch_loss)  # Adjust learning rate based on validation loss\n",
    "\n",
    "    print(f\"Epoch [{epoch+1}/{num_epochs}] \"\n",
    "          f\"Train Loss: {epoch_loss:.4f}, Train Acc: {epoch_acc:.4f} \"\n",
    "          f\"Val Loss: {val_epoch_loss:.4f}, Val Acc: {val_epoch_acc:.4f}\")\n",
    "\n",
    "    # Early Stopping\n",
    "    if val_epoch_acc > best_val_acc:\n",
    "        best_val_acc = val_epoch_acc\n",
    "        best_model_wts = copy.deepcopy(model.state_dict())\n",
    "        trigger_times = 0\n",
    "    else:\n",
    "        trigger_times += 1\n",
    "        print(f'EarlyStopping counter: {trigger_times} out of {patience}')\n",
    "        if trigger_times >= patience:\n",
    "            print('Early stopping!')\n",
    "            break\n",
    "\n",
    "# Load best model weights\n",
    "model.load_state_dict(best_model_wts)\n"
   ]
  },
  {
   "cell_type": "markdown",
   "id": "5a4a97f9-ec64-4d61-bb00-ab708631767c",
   "metadata": {
    "id": "5a4a97f9-ec64-4d61-bb00-ab708631767c"
   },
   "source": [
    "## Evaluation:"
   ]
  },
  {
   "cell_type": "markdown",
   "id": "77e7f9c1-9ac4-4bd0-b2fe-f7ea760b4359",
   "metadata": {
    "id": "77e7f9c1-9ac4-4bd0-b2fe-f7ea760b4359"
   },
   "source": [
    "#### Compute accuracy:"
   ]
  },
  {
   "cell_type": "code",
   "execution_count": 18,
   "id": "726fd227-3123-4867-8efe-c53928861263",
   "metadata": {
    "id": "726fd227-3123-4867-8efe-c53928861263"
   },
   "outputs": [],
   "source": [
    "def compute_accuracy(y_true, y_pred):\n",
    "    \"\"\"\n",
    "    Computes the accuracy of predictions.\n",
    "\n",
    "    Args:\n",
    "        y_true (list): True labels.\n",
    "        y_pred (list): Predicted labels.\n",
    "\n",
    "    Returns:\n",
    "        float: Accuracy score.\n",
    "    \"\"\"\n",
    "    correct = sum(1 for true, pred in zip(y_true, y_pred) if true == pred)\n",
    "    total = len(y_true)\n",
    "    accuracy = correct / total if total > 0 else 0\n",
    "    return accuracy"
   ]
  },
  {
   "cell_type": "markdown",
   "id": "2252eba3-498b-436e-af2b-05612d3f4e44",
   "metadata": {
    "id": "2252eba3-498b-436e-af2b-05612d3f4e44"
   },
   "source": [
    "### Confusion Matrix:"
   ]
  },
  {
   "cell_type": "code",
   "execution_count": 19,
   "id": "3e9bce64-c03b-4725-b3a2-5d56157e46fe",
   "metadata": {
    "id": "3e9bce64-c03b-4725-b3a2-5d56157e46fe"
   },
   "outputs": [],
   "source": [
    "def compute_confusion_matrix(y_true, y_pred, labels):\n",
    "    \"\"\"\n",
    "    Computes the confusion matrix.\n",
    "\n",
    "    Args:\n",
    "        y_true (list): True labels.\n",
    "        y_pred (list): Predicted labels.\n",
    "        labels (list): List of unique labels.\n",
    "\n",
    "    Returns:\n",
    "        dict: Nested dictionary representing the confusion matrix.\n",
    "              Outer keys are true labels, inner keys are predicted labels.\n",
    "    \"\"\"\n",
    "    cm = {true_label: {pred_label: 0 for pred_label in labels} for true_label in labels}\n",
    "\n",
    "    for true, pred in zip(y_true, y_pred):\n",
    "        if true in cm and pred in cm[true]:\n",
    "            cm[true][pred] += 1\n",
    "        else:\n",
    "            # Handle unexpected labels\n",
    "            pass\n",
    "\n",
    "    return cm"
   ]
  },
  {
   "cell_type": "markdown",
   "id": "623c12ef-0ff2-4730-b1c3-ec86a8c6dfa4",
   "metadata": {
    "id": "623c12ef-0ff2-4730-b1c3-ec86a8c6dfa4"
   },
   "source": [
    "### Precision, Recall and F1-score:"
   ]
  },
  {
   "cell_type": "code",
   "execution_count": 20,
   "id": "ee23eec4-606f-458b-bb03-d6981c60ad61",
   "metadata": {
    "id": "ee23eec4-606f-458b-bb03-d6981c60ad61"
   },
   "outputs": [],
   "source": [
    "def compute_classification_metrics(cm, labels):\n",
    "    \"\"\"\n",
    "    Computes precision, recall, and F1-score for each class.\n",
    "\n",
    "    Args:\n",
    "        cm (dict): Confusion matrix.\n",
    "        labels (list): List of unique labels.\n",
    "\n",
    "    Returns:\n",
    "        dict: Nested dictionary with metrics for each label.\n",
    "    \"\"\"\n",
    "    metrics = {}\n",
    "\n",
    "    for label in labels:\n",
    "        TP = cm[label][label]\n",
    "        FP = sum(cm[other][label] for other in labels if other != label)\n",
    "        FN = sum(cm[label][other] for other in labels if other != label)\n",
    "        TN = sum(cm[other_true][other_pred] for other_true in labels for other_pred in labels\n",
    "                 if other_true != label and other_pred != label)\n",
    "\n",
    "        precision = TP / (TP + FP) if (TP + FP) > 0 else 0\n",
    "        recall = TP / (TP + FN) if (TP + FN) > 0 else 0\n",
    "        f1_score = (2 * precision * recall) / (precision + recall) if (precision + recall) > 0 else 0\n",
    "\n",
    "        metrics[label] = {\n",
    "            'precision': precision,\n",
    "            'recall': recall,\n",
    "            'f1_score': f1_score,\n",
    "            'support': TP + FN\n",
    "        }\n",
    "\n",
    "    return metrics"
   ]
  },
  {
   "cell_type": "markdown",
   "id": "42e2077d-881a-4ab3-9ca2-03cb5eb8da73",
   "metadata": {
    "id": "42e2077d-881a-4ab3-9ca2-03cb5eb8da73"
   },
   "source": [
    "### Macro and weighted average:"
   ]
  },
  {
   "cell_type": "code",
   "execution_count": 21,
   "id": "edd66d6c-c31b-49bd-8d33-122527eee4e5",
   "metadata": {
    "id": "edd66d6c-c31b-49bd-8d33-122527eee4e5"
   },
   "outputs": [],
   "source": [
    "def compute_averages(metrics, labels):\n",
    "    \"\"\"\n",
    "    Computes macro and weighted averages for precision, recall, and F1-score.\n",
    "\n",
    "    Args:\n",
    "        metrics (dict): Classification metrics for each label.\n",
    "        labels (list): List of unique labels.\n",
    "\n",
    "    Returns:\n",
    "        dict: Dictionary containing macro and weighted averages.\n",
    "    \"\"\"\n",
    "    macro = {'precision': 0, 'recall': 0, 'f1_score': 0}\n",
    "    weighted = {'precision': 0, 'recall': 0, 'f1_score': 0}\n",
    "    total_support = 0\n",
    "\n",
    "    for label in labels:\n",
    "        macro['precision'] += metrics[label]['precision']\n",
    "        macro['recall'] += metrics[label]['recall']\n",
    "        macro['f1_score'] += metrics[label]['f1_score']\n",
    "\n",
    "        weighted['precision'] += metrics[label]['precision'] * metrics[label]['support']\n",
    "        weighted['recall'] += metrics[label]['recall'] * metrics[label]['support']\n",
    "        weighted['f1_score'] += metrics[label]['f1_score'] * metrics[label]['support']\n",
    "        total_support += metrics[label]['support']\n",
    "\n",
    "    macro_avg = {k: v / len(labels) for k, v in macro.items()}\n",
    "    weighted_avg = {k: v / total_support for k, v in weighted.items()}\n",
    "\n",
    "    return {'macro_avg': macro_avg, 'weighted_avg': weighted_avg}"
   ]
  },
  {
   "cell_type": "markdown",
   "id": "230b3014-1807-4498-a211-9a9ec22f3b3b",
   "metadata": {
    "id": "230b3014-1807-4498-a211-9a9ec22f3b3b"
   },
   "source": [
    "## Combined:"
   ]
  },
  {
   "cell_type": "code",
   "execution_count": 22,
   "id": "50ad1123-2526-4735-a82c-e2db074f5043",
   "metadata": {
    "id": "50ad1123-2526-4735-a82c-e2db074f5043"
   },
   "outputs": [],
   "source": [
    "def evaluate_model(model, data_loader, device, int_to_label):\n",
    "    \"\"\"\n",
    "    Evaluates the model on the provided data_loader without using scikit-learn.\n",
    "\n",
    "    Args:\n",
    "        model (nn.Module): Trained PyTorch model.\n",
    "        data_loader (DataLoader): DataLoader for the dataset.\n",
    "        device (torch.device): Device to run the evaluation on.\n",
    "        int_to_label (dict): Dictionary to decode integer labels back to original labels.\n",
    "\n",
    "    Returns:\n",
    "        float: Accuracy of the model.\n",
    "    \"\"\"\n",
    "    model.eval()\n",
    "    all_preds = []\n",
    "    all_labels = []\n",
    "\n",
    "    with torch.no_grad():\n",
    "        for inputs, labels in data_loader:\n",
    "            inputs = inputs.to(device)\n",
    "            labels = labels.to(device)\n",
    "\n",
    "            outputs = model(inputs)\n",
    "            _, predicted = torch.max(outputs, 1)\n",
    "\n",
    "            all_preds.extend(predicted.cpu().numpy())\n",
    "            all_labels.extend(labels.cpu().numpy())\n",
    "\n",
    "    # Decode labels back to original\n",
    "    y_pred = [int_to_label[pred] for pred in all_preds]\n",
    "    y_true = [int_to_label[label] for label in all_labels]\n",
    "\n",
    "    # Get list of unique labels\n",
    "    unique_labels = sorted(int_to_label.values())\n",
    "\n",
    "    # Compute Confusion Matrix\n",
    "    cm = compute_confusion_matrix(y_true, y_pred, unique_labels)\n",
    "\n",
    "    # Compute Classification Metrics\n",
    "    metrics = compute_classification_metrics(cm, unique_labels)\n",
    "    averages = compute_averages(metrics, unique_labels)\n",
    "\n",
    "    # Print Classification Report\n",
    "    print(\"\\nClassification Report:\")\n",
    "    for label in unique_labels:\n",
    "        print(f\"Class: {label}\")\n",
    "        print(f\"  Precision: {metrics[label]['precision']:.2f}\")\n",
    "        print(f\"  Recall:    {metrics[label]['recall']:.2f}\")\n",
    "        print(f\"  F1-Score:  {metrics[label]['f1_score']:.2f}\")\n",
    "        print(f\"  Support:   {metrics[label]['support']}\")\n",
    "        print()\n",
    "\n",
    "    print(\"Macro Average:\")\n",
    "    for metric, value in averages['macro_avg'].items():\n",
    "        print(f\"  {metric.capitalize()}: {value:.2f}\")\n",
    "    print()\n",
    "\n",
    "    print(\"Weighted Average:\")\n",
    "    for metric, value in averages['weighted_avg'].items():\n",
    "        print(f\"  {metric.capitalize()}: {value:.2f}\")\n",
    "    print()\n",
    "\n",
    "    # Convert Confusion Matrix to List of Lists for plotting\n",
    "    cm_matrix = []\n",
    "    for true_label in unique_labels:\n",
    "        row = []\n",
    "        for pred_label in unique_labels:\n",
    "            row.append(cm[true_label][pred_label])\n",
    "        cm_matrix.append(row)\n",
    "\n",
    "    # Plot Confusion Matrix\n",
    "    plt.figure(figsize=(10, 8))\n",
    "    sns.heatmap(cm_matrix, annot=True, fmt='d', cmap='Blues',\n",
    "                xticklabels=unique_labels,\n",
    "                yticklabels=unique_labels)\n",
    "    plt.title('Confusion Matrix - SVM')\n",
    "    plt.ylabel('True Label')\n",
    "    plt.xlabel('Predicted Label')\n",
    "    plt.show()\n",
    "\n",
    "    # Compute and Print Accuracy\n",
    "    accuracy = compute_accuracy(y_true, y_pred)\n",
    "    print(f\"SVM Accuracy: {accuracy:.4f}\")\n",
    "\n",
    "    return accuracy"
   ]
  },
  {
   "cell_type": "markdown",
   "id": "6b74ec30-68a4-40b1-85d6-4d899b1b7f48",
   "metadata": {
    "id": "6b74ec30-68a4-40b1-85d6-4d899b1b7f48"
   },
   "source": [
    "## Evaluation report:"
   ]
  },
  {
   "cell_type": "code",
   "execution_count": 23,
   "id": "be62fd65-73df-46b6-a4b5-dc9678f8140b",
   "metadata": {
    "colab": {
     "base_uri": "https://localhost:8080/",
     "height": 1000
    },
    "id": "be62fd65-73df-46b6-a4b5-dc9678f8140b",
    "outputId": "6388b310-53ae-4ba8-d9b1-92afd4d4eb01"
   },
   "outputs": [
    {
     "name": "stdout",
     "output_type": "stream",
     "text": [
      "\n",
      "Classification Report:\n",
      "Class: business\n",
      "  Precision: 1.00\n",
      "  Recall:    0.18\n",
      "  F1-Score:  0.30\n",
      "  Support:   90\n",
      "\n",
      "Class: entertainment\n",
      "  Precision: 0.98\n",
      "  Recall:    0.58\n",
      "  F1-Score:  0.73\n",
      "  Support:   86\n",
      "\n",
      "Class: international\n",
      "  Precision: 0.70\n",
      "  Recall:    0.92\n",
      "  F1-Score:  0.79\n",
      "  Support:   98\n",
      "\n",
      "Class: science-technology\n",
      "  Precision: 1.00\n",
      "  Recall:    0.55\n",
      "  F1-Score:  0.71\n",
      "  Support:   98\n",
      "\n",
      "Class: sports\n",
      "  Precision: 0.40\n",
      "  Recall:    0.99\n",
      "  F1-Score:  0.57\n",
      "  Support:   84\n",
      "\n",
      "Macro Average:\n",
      "  Precision: 0.82\n",
      "  Recall: 0.64\n",
      "  F1_score: 0.62\n",
      "\n",
      "Weighted Average:\n",
      "  Precision: 0.82\n",
      "  Recall: 0.64\n",
      "  F1_score: 0.63\n",
      "\n"
     ]
    },
    {
     "data": {
      "image/png": "[encoded data removed]",
      "text/plain": [
       "<Figure size 1000x800 with 2 Axes>"
      ]
     },
     "metadata": {},
     "output_type": "display_data"
    },
    {
     "name": "stdout",
     "output_type": "stream",
     "text": [
      "SVM Accuracy: 0.6425\n"
     ]
    }
   ],
   "source": [
    "accuracy_nn = evaluate_model(model, test_loader, device, int_to_label)"
   ]
  }
 ],
 "metadata": {
  "colab": {
   "provenance": []
  },
  "kernelspec": {
   "display_name": "Python 3 (ipykernel)",
   "language": "python",
   "name": "python3"
  },
  "language_info": {
   "codemirror_mode": {
    "name": "ipython",
    "version": 3
   },
   "file_extension": ".py",
   "mimetype": "text/x-python",
   "name": "python",
   "nbconvert_exporter": "python",
   "pygments_lexer": "ipython3",
   "version": "3.11.5"
  }
 },
 "nbformat": 4,
 "nbformat_minor": 5
}
